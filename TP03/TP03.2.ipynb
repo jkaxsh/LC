{
 "cells": [
  {
   "cell_type": "markdown",
   "id": "a62be481",
   "metadata": {},
   "source": [
    "\n",
    "Exercício 2\n",
    "\n",
    "Este exercício é dirigido à prova de correção do algoritmo estendido de Euclides\n",
    "\n",
    "    1. Construa a asserção lógica que representa a pós-condição do algoritmo. Note que a definição da função gcd é gcd(a,b) = min{r > 0 | E [s,t] . r = a * s + b * t}.\n",
    "    2. Usando a metodologia do comando havoc para o ciclo, escreva o programa na linguagem dos comandos anotados (LPA). Codifique a pós-condição do algoritmo com um comando assert .\n",
    "    3. Construa codificações do programa LPA através de transformadores de predicados: “weakest pre-condition” e “strongest post-condition”. \n",
    "    4. Prove a correção  do programa LPA em ambas as codificações."
   ]
  },
  {
   "cell_type": "code",
   "execution_count": 1,
   "id": "659309e2",
   "metadata": {},
   "outputs": [],
   "source": [
    "from pysmt.shortcuts import *\n",
    "from pysmt.typing import INT,BVType\n",
    "from pysmt.logics import QF_NIA\n",
    "import itertools"
   ]
  },
  {
   "cell_type": "markdown",
   "id": "79189787",
   "metadata": {},
   "source": [
    "1."
   ]
  },
  {
   "cell_type": "markdown",
   "id": "86792d71",
   "metadata": {},
   "source": [
    "gcd(a,b) = min{r > 0 | E [s,t] . r = a*s+b*t}, entao temos de provar o seguinte:  \n",
    "(r final = a * s + b * t) -> (r > 0)  \n",
    "e que r final <= todos os r em que (r = a * s + b * t) -> (r > 0)  "
   ]
  },
  {
   "cell_type": "code",
   "execution_count": 2,
   "id": "e8fce530",
   "metadata": {},
   "outputs": [],
   "source": [
    "def pos_condi(a, b, states):\n",
    "    st = states[-1]\n",
    "    \n",
    "    # exists = ((∃s,t⋅r=a∗s+b∗t) -> (r >0)), prova r>0 ∣ ∃s,t⋅r=a∗s+b∗t\n",
    "    exists =  Implies(Exists([st['s'], st['t']], Equals(st['r'], Plus(Times(Int(a), st['s']), Times(Int(b), st['t'])))), \n",
    "                          GT(st['r'], Int(0)))\n",
    "    \n",
    "    # Pós-condição\n",
    "    r_condition = []\n",
    "    for st in states:\n",
    "        # exists -> (r <= all r{0,i}), prova o min{}\n",
    "        r_condition.append(LE(states[-1]['r'], st['r']))\n",
    "        \n",
    "    return Implies(exists, And(*r_condition))"
   ]
  },
  {
   "cell_type": "markdown",
   "id": "73e4c489",
   "metadata": {},
   "source": [
    "b)"
   ]
  },
  {
   "cell_type": "markdown",
   "id": "1c9bbef5",
   "metadata": {},
   "source": [
    "## LPA?\n",
    "1. {Pre-condição: a > 0 and b > 0 and a < N and b < N}  \n",
    "2. r, r', s, s', t, t' := a, b, 1, 0, 0, 1  \n",
    "3. while r' != 0  \n",
    "4.   {Invariante de Ciclo: r = a * s' + b * t' and r' = a * s + b * t}  \n",
    "5.   q := r div r'  \n",
    "6.   r, r', s, s', t, t' := r', r - q * r', s', s - q * s', t', t - q * t'  \n",
    "7. {Pós-condição: r = mdc(a, b) and r = a * s + b * t}  \n",
    "8. {Pós-condição Forte: r = mdc(a, b) and r = a * s + b * t and r = gcd(a, b) and s * a + t * b = mdc(a, b)}  "
   ]
  },
  {
   "cell_type": "code",
   "execution_count": 3,
   "id": "b89d1cdd",
   "metadata": {},
   "outputs": [],
   "source": [
    "from pysmt.shortcuts import *\n",
    "from pysmt.typing import INT\n",
    "from pysmt.logics import QF_LIA\n",
    "\n",
    "def euclidean_extended(a, b, N):\n",
    "    # Variáveis\n",
    "    r = Symbol(\"r\", INT)\n",
    "    r_prime = Symbol(\"r_prime\", INT)\n",
    "    s = Symbol(\"s\", INT)\n",
    "    s_prime = Symbol(\"s_prime\", INT)\n",
    "    t = Symbol(\"t\", INT)\n",
    "    t_prime = Symbol(\"t_prime\", INT)\n",
    "    q = Symbol(\"q\", INT)\n",
    "    \n",
    "    # Condições iniciais\n",
    "    assume = And(a > 0, b > 0, a < N, b < N)\n",
    "    \n",
    "    # Inicialização\n",
    "    pre_conditions = And(r == a, r_prime == b, s == 1, s_prime == 0, t == 0, t_prime == 1)\n",
    "    \n",
    "    # Comando havoc\n",
    "    havoc_command = Or(Implies(Not(r_prime == 0), r == r_prime - q * r_prime),\n",
    "                      Implies(r_prime == 0, r == r_prime))\n",
    "    \n",
    "    # Pós-condição\n",
    "    post_condition = Or(Implies(Not(r_prime == 0), And(r_prime * s == a, r_prime * t == b)),\n",
    "                       Implies(r_prime == 0, And(r == a, s == 1, t == 0)))\n",
    "    \n",
    "    # Verificando se a pós-condição é válida\n",
    "    assertion = Implies(pre_conditions, And(havoc_command, post_condition))\n",
    "    solver = get_model(assertion)\n",
    "    \n",
    "    if solver:\n",
    "        print(\"Programa válido\")\n",
    "        print(\"Modelo encontrado:\")\n",
    "        for var in [r, r_prime, s, s_prime, t, t_prime, q]:\n",
    "            print(f\"{var}: {solver.get_value(var)}\")\n",
    "    else:\n",
    "        print(\"Programa inválido\")\n",
    "\n",
    "# Exemplo de uso\n",
    "a = 35\n",
    "b = 15\n",
    "N = 100\n",
    "\n",
    "#euclidean_extended(a, b, N)"
   ]
  },
  {
   "cell_type": "code",
   "execution_count": 3,
   "id": "1ba85da6",
   "metadata": {},
   "outputs": [
    {
     "name": "stdout",
     "output_type": "stream",
     "text": [
      "pos-condicao comprovada!\n",
      "gdc(10,30) = 10\n"
     ]
    }
   ],
   "source": [
    "n=40\n",
    "a=10\n",
    "b=30\n",
    "\n",
    "\n",
    "def declare(i):\n",
    "    state = {}\n",
    "    state['pc'] = Symbol('pc'+str(i),INT)\n",
    "\n",
    "    state['r'] = Symbol('r'+str(i),INT)\n",
    "    state['r_'] = Symbol('r_'+str(i),INT)\n",
    "    state['s'] = Symbol('s'+str(i),INT)\n",
    "    state['s_'] = Symbol('s_'+str(i),INT)\n",
    "    state['t'] = Symbol('t'+str(i),INT)\n",
    "    state['t_'] = Symbol('t_'+str(i),INT)\n",
    "    state['q'] = Symbol('q' +str(i),INT)\n",
    "\n",
    "    return state\n",
    "     \n",
    "def init(state):\n",
    "    E = Equals(state['pc'],Int(0))\n",
    "\n",
    "    R = Equals(state['r'],Int(a))\n",
    "    R_ = Equals(state['r_'],Int(b))\n",
    "    S = Equals(state['s'], Int(1))\n",
    "    S_ = Equals(state['s_'],Int(0))\n",
    "    T = Equals(state['t'],Int(0))\n",
    "    T_ = Equals(state['t_'],Int(1))\n",
    "    Q = Equals(state['q'],Int(0))\n",
    "\n",
    "    return And(E,R,R_,S,S_,T,T_)\n",
    "\n",
    "def trans(curr,prox):\n",
    "\n",
    "    t01 = And(Equals(curr['pc'],Int(0)), Not(Equals(curr['r_'],Int(0))), Equals(prox['pc'],Int(1)),\n",
    "              Equals(prox['r'],curr['r']), Equals(prox['r_'],curr['r_']),\n",
    "              Equals(prox['s'],curr['s']), Equals(prox['s_'],curr['s_']),\n",
    "              Equals(prox['t'],curr['t']), Equals(prox['t_'],curr['t_']),\n",
    "              Equals(prox['q'],curr['q']))\n",
    "\n",
    "    t02 = And(Equals(curr['pc'],Int(0)), Equals(curr['r_'],Int(0)), Equals(prox['pc'],Int(2)),\n",
    "              Equals(prox['r'],curr['r']), Equals(prox['r_'],curr['r_']),\n",
    "              Equals(prox['s'],curr['s']), Equals(prox['s_'],curr['s_']),\n",
    "              Equals(prox['t'],curr['t']), Equals(prox['t_'],curr['t_']),\n",
    "              Equals(prox['q'],curr['q']))\n",
    "\n",
    "    t10 = And(Equals(curr['pc'],Int(1)), Equals(prox['pc'],Int(0)),\n",
    "              Equals(curr['q'], Div(curr['r'],curr['r_'])),\n",
    "              Equals(prox['r'],curr['r_']), Equals(prox['r_'], Minus(curr['r'],Times(curr['q'],curr['r_']))),\n",
    "              Equals(prox['s'],curr['s_']), Equals(prox['s_'], Minus(curr['s'],Times(curr['q'],curr['s_']))),\n",
    "              Equals(prox['t'],curr['t_']), Equals(prox['t_'], Minus(curr['t'],Times(curr['q'],curr['t_']))))\n",
    "\n",
    "    t22 = And(Equals(curr['pc'],Int(2)), Equals(prox['pc'],Int(2)),\n",
    "              Equals(prox['r'],curr['r']), Equals(prox['r_'],curr['r_']),\n",
    "              Equals(prox['s'],curr['s']), Equals(prox['s_'],curr['s_']),\n",
    "              Equals(prox['t'],curr['t']), Equals(prox['t_'],curr['t_']),\n",
    "              Equals(prox['q'],curr['q']))\n",
    "\n",
    "    return Or(t01,t02,t10,t22)\n",
    "\n",
    "def euclides(declare,init,trans,k):\n",
    "    with Solver(name=\"z3\") as solver:\n",
    "        states = [declare(i) for i in range(k)]\n",
    "        \n",
    "        post = pos_condi(a, b, states)\n",
    "        solver.add_assertion(post)\n",
    "        \n",
    "        solver.add_assertion(init(states[0]))\n",
    "        solver.add_assertion(And(trans(states[i],states[i+1]) for i in range(k-1)))\n",
    "        \n",
    "        if solver.solve():\n",
    "            print('pos-condicao comprovada!')\n",
    "            print(f'gdc({a},{b}) = {solver.get_value(states[-1][\"r\"])}')\n",
    "        else:\n",
    "            print('pos-condicao falsa')\n",
    "\n",
    "euclides(declare,init,trans,n)"
   ]
  },
  {
   "cell_type": "code",
   "execution_count": null,
   "id": "4f06f73b",
   "metadata": {},
   "outputs": [],
   "source": []
  }
 ],
 "metadata": {
  "kernelspec": {
   "display_name": "Python 3 (ipykernel)",
   "language": "python",
   "name": "python3"
  },
  "language_info": {
   "codemirror_mode": {
    "name": "ipython",
    "version": 3
   },
   "file_extension": ".py",
   "mimetype": "text/x-python",
   "name": "python",
   "nbconvert_exporter": "python",
   "pygments_lexer": "ipython3",
   "version": "3.10.13"
  }
 },
 "nbformat": 4,
 "nbformat_minor": 5
}

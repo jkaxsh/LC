{
 "cells": [
  {
   "cell_type": "markdown",
   "id": "a62be481",
   "metadata": {},
   "source": [
    "\n",
    "Exercício 2\n",
    "\n",
    "Este exercício é dirigido à prova de correção do algoritmo estendido de Euclides\n",
    "\n",
    "    1. Construa a asserção lógica que representa a pós-condição do algoritmo. Note que a definição da função gcd é gcd(a,b) = min{r > 0 | E [s,t] . r = a * s + b * t}.\n",
    "    2. Usando a metodologia do comando havoc para o ciclo, escreva o programa na linguagem dos comandos anotados (LPA). Codifique a pós-condição do algoritmo com um comando assert .\n",
    "    3. Construa codificações do programa LPA através de transformadores de predicados: “weakest pre-condition” e “strongest post-condition”. \n",
    "    4. Prove a correção  do programa LPA em ambas as codificações."
   ]
  },
  {
   "cell_type": "code",
   "execution_count": 1,
   "id": "659309e2",
   "metadata": {},
   "outputs": [],
   "source": [
    "from pysmt.shortcuts import *\n",
    "from pysmt.typing import INT,BVType\n",
    "from pysmt.logics import QF_NIA\n",
    "import itertools"
   ]
  },
  {
   "cell_type": "markdown",
   "id": "79189787",
   "metadata": {},
   "source": [
    "1."
   ]
  },
  {
   "cell_type": "code",
   "execution_count": 2,
   "id": "e8fce530",
   "metadata": {},
   "outputs": [
    {
     "name": "stdout",
     "output_type": "stream",
     "text": [
      "((! ((r_ <= r) & ((... + ...) = r_))) & ((0 < r) & (r < n) & (r = ((... * ...) + (... * ...)))))\n"
     ]
    }
   ],
   "source": [
    "a = Symbol('a',INT)\n",
    "b = Symbol('b',INT)\n",
    "r = Symbol('r',INT)\n",
    "\n",
    "n = Symbol('n',INT)\n",
    "r_ = Symbol('r_',INT)\n",
    "s = Symbol('s',INT)\n",
    "s_ = Symbol('s_',INT)\n",
    "t = Symbol('t',INT)\n",
    "t_ = Symbol('t_',INT)\n",
    "q = Symbol('q' ,INT)\n",
    "\n",
    "inv = And(GT(r,Int(0)), LT(r,n), Equals(r, Plus(Times(a,s), Times(b,t))))\n",
    "\n",
    "pos = And(Not(And(LE(r_, r), Equals(Plus(Times(a, s_), Times(b, t_)), r_))), inv)\n",
    "\n",
    "print(pos)"
   ]
  },
  {
   "cell_type": "markdown",
   "id": "73e4c489",
   "metadata": {},
   "source": [
    "2. LPA & havoc"
   ]
  },
  {
   "cell_type": "markdown",
   "id": "d9492c5b",
   "metadata": {},
   "source": [
    "w ≡ {assume b; S; W} || {^assume b} "
   ]
  },
  {
   "cell_type": "markdown",
   "id": "6b2999f9",
   "metadata": {},
   "source": [
    "S = q = r div r'; r = r'; r' = r - q * r'; s = s'; s' = s - q * s'; t = t'; t' = t - q * t'  \n",
    "w = {assume r' != 0; q = r div r'; r = r'; r' = r - q * r'; s = s'; s' = s - q * s'; t = t'; t' = t - q * t'; W} || {assume not r' != 0}  "
   ]
  },
  {
   "cell_type": "code",
   "execution_count": 3,
   "id": "8abd9fe4",
   "metadata": {},
   "outputs": [],
   "source": [
    "def prove(f):\n",
    "    with Solver(name=\"z3\") as solver:\n",
    "        solver.add_assertion(Not(f))\n",
    "        if solver.solve():\n",
    "            print(\"Proved\")\n",
    "        else:\n",
    "            print(\"Failed to prove\")"
   ]
  },
  {
   "cell_type": "code",
   "execution_count": 4,
   "id": "a8e8b2af",
   "metadata": {},
   "outputs": [
    {
     "name": "stdout",
     "output_type": "stream",
     "text": [
      "Proved\n",
      "Proved\n"
     ]
    }
   ],
   "source": [
    "func = Implies(And(Not(Equals(r, Int(0))),inv),substitute(\n",
    "    substitute(\n",
    "        substitute(\n",
    "            substitute(\n",
    "                substitute(\n",
    "                    substitute(inv,\n",
    "                               {t_:t - q * t}),\n",
    "                    {t:t_}),\n",
    "                {s_:s - q * s_}),\n",
    "            {s:s_}),\n",
    "        {r_:r - q * r_}),\n",
    "    {r:r_}))\n",
    "\n",
    "havoc = ForAll([r, r_, s, s_, t, t_], func)\n",
    "axioms = And(havoc, And(Equals(r, a), Equals(r_, b), Equals(s, Int(1)), Equals(s_, Int(0)), Equals(t, Int(0)), Equals(t_, Int(1))))\n",
    "\n",
    "prove(havoc)\n",
    "prove(axioms)"
   ]
  },
  {
   "cell_type": "markdown",
   "id": "5ecd1e0b",
   "metadata": {},
   "source": [
    "## Codificar em SMT e provar a correção\n",
    "Iremos provar a correção do ciclo usando havoc.\n",
    "Na metodologia havoc, o ciclo (while b do{θ}), com anotação de invariante θ é transformado num fluxo não iterativo da seguinte forma\n",
    "\n",
    "    assert θ ; C ; havoc x ; ( (assume b ∧ θ ; assert θ ; assume False) || assume ¬b ∧ θ )\n",
    "\n",
    "onde x\n",
    "    representa as variáveis atribuídas em C.\n",
    "\n",
    "Iremos então traduzir o triplo de Hoare {ϕ}while b do{θ}{ψ}, da seguinte forma, de modo a garantir as propriedades de\n",
    "\"inicialização\", \"preservação\" e \"utilidade\" do invariante θ\n",
    "\n",
    "    [ assume ϕ ; C ; assert θ ; havoc x ; ( (assume b ∧ θ ; assert θ ; assume False) || assume ¬b ∧ θ ) ; assert ψ ]\n",
    "\n",
    "=\n",
    "\n",
    "    ϕ → [C , θ ∧ ∀x. ((b ∧ θ → assert θ) ∧ (¬b ∧ θ → ψ))]\n",
    "\n",
    "\n",
    "Em primeiro lugar, iremos traduzir o programa para a linguagem de fluxos com havoc:  \n",
    "assume pre;  \n",
    "assert invariante;  \n",
    "havoc r; havoc r'; havoc s; havoc s'; havoc t; havoc t';    \n",
    "((assume b and invariante; assert invariante; assume False) || assume (not b) and invariante);  \n",
    "assert pos  \n",
    "\n",
    "Em seguida iremos calcular a denotação lógica deste programa de fluxos pela WPC, calculada pelas seguintes regras:  \n",
    "[assume ϕ] = True  \n",
    "[assert ϕ] = ϕ  \n",
    "[x = e] = True  \n",
    "\n",
    "[assume pre; assert invariante; havoc r, r', s, s', t, t'; ((assume (b and invariante); assert invariante; assume False) || assume ((not b) and invariante)); assert pos]\n",
    "\n",
    "=\n",
    "\n",
    "[assume a > 0 and b > 0 and a < N and b < N; havoc f; r = a; r' = b; s = 1; s' = 0; t = 0; t' = 1;]  \n",
    "\n",
    "=\n",
    "\n",
    "(a > 0 and b > 0 and a < N and b < N) -> r = a; r' = b; s = 1; s' = 0; t = 0; t' = 1;  \n",
    "(r= a*s+b*t and r>0 and r < N) and forall (r, r', s, s', t, t') . \n",
    "((not(r' == 0) and (r= a*s+b*t and r>0 and r < N) ->  [\n",
    "q = r div r'; r = r'; r' = r - q * r'; s = s'; s' = s - q * s'; t = t'; t' = t - q * t';   \n",
    "assert inv])  \n",
    "and ( r' == 0 and (r= a*s+b*t and r>0 and r < N) -> ((r= a*s+b*t and r>0 and r < N),not(r_<=r and r_= a*s_+b*t_))))]  \n",
    "\n",
    "=\n",
    "\n",
    "(a > 0 and b > 0 and a < N and b < N) -> [forall (r, r', s, s', t, t') . \n",
    "((not(r' == 0) and (r= a*s+b*t and r>0 and r < N) ->  [\n",
    "q = r div r'; r = r'; r' = r - q * r'; s = s'; s' = s - q * s'; t = t'; t' = t - q * t';   \n",
    "assert inv]); ([r = a]) [r' = b]) [s = 1]) [s' = 0]) [t = 0]) [t' = 1]))]\n",
    "\n",
    "Finalmente, passaremos à prova da correção do programa, usando o Z3."
   ]
  },
  {
   "cell_type": "markdown",
   "id": "1c9bbef5",
   "metadata": {},
   "source": [
    "## WPC\n",
    "\n",
    "[assume a > 0 and b > 0 and a < N and b < N; havoc f; r = a; r' = b; s = 1; s' = 0; t = 0; t' = 1;]  \n",
    "\n",
    "=\n",
    "\n",
    "(a > 0 and b > 0 and a < N and b < N) -> [havoc x and ([r = a]) [r' = b]) [s = 1]) [s' = 0]) [t = 0]) [t' = 1])), pos]"
   ]
  },
  {
   "cell_type": "code",
   "execution_count": 5,
   "id": "0a2b31d8",
   "metadata": {},
   "outputs": [],
   "source": [
    "WPC = substitute(\n",
    "        substitute(\n",
    "            substitute(\n",
    "                substitute(\n",
    "                    substitute(\n",
    "                        substitute(pos,{t_:Int(1)}),\n",
    "                        {t:Int(0)}),\n",
    "                    {s_:Int(0)}),\n",
    "                {s:Int(1)}),\n",
    "            {r_:b}),\n",
    "        {r:a})"
   ]
  },
  {
   "cell_type": "markdown",
   "id": "f73ad27a",
   "metadata": {},
   "source": [
    "## SPC\n",
    "\n",
    "[assume a > 0 and b > 0 and a < N and b < N; havoc x; r = a; r' = b; s = 1; s' = 0; t = 0; t' = 1; pos]  \n",
    "\n",
    "= [assume a > 0 and b > 0 and a < N and b < N; havoc x; r = a; r' = b; s = 1; s' = 0; t = 0; t' = 1;]  -> ((r = a * s + b * t and r > 0 and r < N), not(r_ <= r and r_= a * s_+ b * t_))\n",
    "\n",
    "= (a > 0 and b > 0 and a < N and b < N and havoc x and r = a and r' = b and s = 1 and s' = 0 and t = 0 and t' = 1) -> ((r = a * s + b * t and r > 0 and r < N), not(r_ <= r and r_= a * s_+ b * t_)))"
   ]
  },
  {
   "cell_type": "code",
   "execution_count": 6,
   "id": "cefb499e",
   "metadata": {},
   "outputs": [],
   "source": [
    "SPC = And(Equals(r, a),\n",
    "          Equals(r_, b),\n",
    "          Equals(s, Int(1)),\n",
    "          Equals(s_, Int(0)),\n",
    "          Equals(t, Int(0)),\n",
    "          Equals(t_, Int(1)),\n",
    "         )"
   ]
  },
  {
   "cell_type": "code",
   "execution_count": 7,
   "id": "bcb70a08",
   "metadata": {},
   "outputs": [
    {
     "name": "stdout",
     "output_type": "stream",
     "text": [
      "WPC\n",
      "Proved\n",
      "SPC\n",
      "Proved\n"
     ]
    }
   ],
   "source": [
    "pre = (a > 0) and (b > 0) and (a < n) and (b < n)\n",
    "\n",
    "WPC_final = Implies(pre, \n",
    "                    And(WPC,\n",
    "                       axioms,\n",
    "                       pos))\n",
    "\n",
    "SPC_final = Implies(And(pre,\n",
    "                    axioms,\n",
    "                    SPC),\n",
    "                    pos)\n",
    "\n",
    "print('WPC')\n",
    "prove(WPC_final)\n",
    "print('SPC')\n",
    "prove(SPC_final)"
   ]
  },
  {
   "cell_type": "code",
   "execution_count": null,
   "id": "4943938b",
   "metadata": {},
   "outputs": [],
   "source": []
  }
 ],
 "metadata": {
  "kernelspec": {
   "display_name": "Python 3 (ipykernel)",
   "language": "python",
   "name": "python3"
  },
  "language_info": {
   "codemirror_mode": {
    "name": "ipython",
    "version": 3
   },
   "file_extension": ".py",
   "mimetype": "text/x-python",
   "name": "python",
   "nbconvert_exporter": "python",
   "pygments_lexer": "ipython3",
   "version": "3.10.13"
  }
 },
 "nbformat": 4,
 "nbformat_minor": 5
}

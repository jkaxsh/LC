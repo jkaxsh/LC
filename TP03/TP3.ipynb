{
  "nbformat": 4,
  "nbformat_minor": 0,
  "metadata": {
    "colab": {
      "provenance": []
    },
    "kernelspec": {
      "name": "python3",
      "display_name": "Python 3"
    },
    "language_info": {
      "name": "python"
    }
  },
  "cells": [
    {
      "cell_type": "markdown",
      "source": [
        "#TP3"
      ],
      "metadata": {
        "id": "hEBGYSn2lfLn"
      }
    },
    {
      "cell_type": "markdown",
      "source": [
        "Paulo Freitas - A100053\n",
        "\n",
        "\n",
        "Pedro Santos - A100110"
      ],
      "metadata": {
        "id": "XD7z1yEFljof"
      }
    },
    {
      "cell_type": "markdown",
      "source": [
        "### Enunciado"
      ],
      "metadata": {
        "id": "ZdjYp3nYnxxc"
      }
    },
    {
      "cell_type": "markdown",
      "source": [
        "Considere-se de novo o algoritmo estendido de Euclides apresentado no TP2  mas usando o tipo dos inteiros e um parâmetro $$N>0$$\n",
        "\n",
        "    INPUT  a, b : Int\n",
        "    assume  a > 0 and b > 0 and a < N and b < N\n",
        "    r, r', s, s', t, t' = a, b, 1, 0, 0, 1\n",
        "    while r' != 0\n",
        "      q = r div r'\n",
        "      r, r', s, s', t, t' = r', r − q × r', s', s − q × s', t', t − q × t'\n",
        "    OUTPUT r, s, t\n",
        "\n",
        "\n",
        "Exercício 1\n",
        "\n",
        "Este exercício é dirigido às provas de segurança do algoritmo acima.\n",
        "\n",
        "  1. Construa um FOTS   $$\\Sigma\\,\\equiv\\,\\langle\\mathsf{X}, \\mathsf{I},\\mathsf{T}\\rangle\\,$$ usando este modelo nos inteiros.\n",
        "  2. Considere como propriedade de segurança:\n",
        "                   safety = (r > 0) and (r < N) and (r = a*``s + b*t`)\n",
        "  Prove usando k-indução que esta propriedade se verifica em qualquer traço do FOTS\n",
        "\n",
        "\n",
        "  3. Prove usando “Model-Checking” com interpelantes e invariantes prove também que esta propriedade é um invariante em qualquer traço de $\\,\\Sigma\\,$.\n",
        "\n",
        "  #### Nota: De momento o uso de interpolantes não é possível em `z3` e requer um dos solvers  `msat` ou `yices`. A experiência mostra que  o `pysmt`  com  Python 3.11 ou 3.12  não instala qualquer destes “solvers”;  para isso exige-se uma instalação com o Python 3.10. |\n",
        "\n",
        "Exercício 2\n",
        "\n",
        "Este exercício é dirigido à prova de correção do algoritmo estendido de Euclides\n",
        "\n",
        "  1. Construa a asserção lógica que representa a pós-condição do algoritmo. Note que a definição da função gcd é:   $$\\gcd(a,b)\\;\\equiv\\; \\min \\{\\,r > 0\\,|\\,\\exists\\,s,t\\,\\centerdot\\, r = a*s+b*t\\,\\}$$\n",
        "  2. Usando a metodologia do comando havoc para o ciclo, escreva o programa na linguagem dos comandos anotados (LPA). Codifique a pós-condição do algoritmo com um comando assert .\n",
        "  3. Construa codificações do programa LPA através de transformadores de predicados: “weakest pre-condition” e “strongest post-condition”.\n",
        "  4. Prove a correção  do programa LPA em ambas as codificações.\n"
      ],
      "metadata": {
        "id": "wBDtar9dlbpu"
      }
    },
    {
      "cell_type": "markdown",
      "source": [
        "# Import das Bibliotecas\n",
        "\n",
        "Para este exercício serão usadas as bibliotecas do pysmt e os sover z3 e msat."
      ],
      "metadata": {
        "id": "QJ2U-G89oiku"
      }
    },
    {
      "cell_type": "code",
      "source": [
        "%%capture\n",
        "!yes | pip install pysmt\n",
        "!apt-get install libgmp3-dev\n",
        "!yes | pysmt-install --z3 --msat\n",
        "\n",
        "file = '/usr/local/lib/python3.10/dist-packages/pysmt/smtlib/parser/__init__.py'\n",
        "with open(file, 'r') as f:\n",
        "    code = f.read()\n",
        "    new_code = code.replace('USE_CYTHON = True', 'USE_CYTHON = False')\n",
        "\n",
        "with open(file, 'w') as f:\n",
        "  f.write(new_code)"
      ],
      "metadata": {
        "id": "MHBM0FxBq_5k"
      },
      "execution_count": 1,
      "outputs": []
    },
    {
      "cell_type": "code",
      "source": [
        "from pysmt.shortcuts import *\n",
        "from pysmt.typing import INT\n",
        "from pysmt.logics import QF_NIA\n",
        "import itertools"
      ],
      "metadata": {
        "id": "AGHj2DrpthyL"
      },
      "execution_count": 17,
      "outputs": []
    },
    {
      "cell_type": "markdown",
      "source": [
        "## EXERCÍCIO 1\n"
      ],
      "metadata": {
        "id": "zSmf80L8oN6P"
      }
    },
    {
      "cell_type": "markdown",
      "source": [
        "### Exercício 1.1\n",
        "\n",
        "Construa um FOTS   $$\\Sigma\\,\\equiv\\,\\langle\\mathsf{X}, \\mathsf{I},\\mathsf{T}\\rangle\\,$$ usando este modelo nos inteiros."
      ],
      "metadata": {
        "id": "aCLr2jmHoSUs"
      }
    },
    {
      "cell_type": "markdown",
      "source": [
        "#### Variáveis\n",
        "\n",
        "Este FOTS é uma adaptação do FOTS realizado no trabalho passado, sendo que a maior alteração é a mudança de tipos onde BVtype passa a Int.\n",
        "\n",
        "\n",
        "Tomemos de exemplo os inteiros de input n = 40, a = 20 e b = 5."
      ],
      "metadata": {
        "id": "nSQn8jKwd8aG"
      }
    },
    {
      "cell_type": "code",
      "source": [
        "n=40\n",
        "\n",
        "a=20\n",
        "b=15\n",
        "\n",
        "#mdc(a,b)"
      ],
      "metadata": {
        "id": "ZlqCJBC6oYKN"
      },
      "execution_count": 3,
      "outputs": []
    },
    {
      "cell_type": "markdown",
      "source": [
        "#### Declaração\n",
        "A função *declare* declara as variáveis existentes em cada estado."
      ],
      "metadata": {
        "id": "DgGIzSiHeNup"
      }
    },
    {
      "cell_type": "code",
      "source": [
        "def declare(i):\n",
        "    state = {}\n",
        "    state['pc'] = Symbol('pc'+str(i),INT)\n",
        "\n",
        "    state['r'] = Symbol('r'+str(i),INT)\n",
        "    state['r_'] = Symbol('r_'+str(i),INT)\n",
        "    state['s'] = Symbol('s'+str(i),INT)\n",
        "    state['s_'] = Symbol('s_'+str(i),INT)\n",
        "    state['t'] = Symbol('t'+str(i),INT)\n",
        "    state['t_'] = Symbol('t_'+str(i),INT)\n",
        "    state['q'] = Symbol('q' +str(i),INT)\n",
        "\n",
        "    return state"
      ],
      "metadata": {
        "id": "rdCnImtwscmF"
      },
      "execution_count": 4,
      "outputs": []
    },
    {
      "cell_type": "markdown",
      "source": [
        "#### Inicialização\n",
        "A função *init* inicializa as variáveis de um dado estado. Segue a inicialização por base das informações presentes no enunciado."
      ],
      "metadata": {
        "id": "dU_l0qzNeYlV"
      }
    },
    {
      "cell_type": "code",
      "source": [
        "def init(state):\n",
        "    E = Equals(state['pc'],Int(0))\n",
        "\n",
        "    R = Equals(state['r'],Int(a))\n",
        "    R_ = Equals(state['r_'],Int(b))\n",
        "    S = Equals(state['s'], Int(1))\n",
        "    S_ = Equals(state['s_'],Int(0))\n",
        "    T = Equals(state['t'],Int(0))\n",
        "    T_ = Equals(state['t_'],Int(1))\n",
        "    Q = Equals(state['q'],Int(0))\n",
        "\n",
        "    return And(E,R,R_,S,S_,T,T_)"
      ],
      "metadata": {
        "id": "n3puAw4esuFO"
      },
      "execution_count": 5,
      "outputs": []
    },
    {
      "cell_type": "markdown",
      "source": [
        "#### Transição\n",
        "\n",
        "Seja o ciclo presente no enuniado, com a alteração em que cada estado do ciclo tem um número associado, ou seja:\n",
        "\n",
        "\n",
        "    0:while r' != 0\n",
        "    1:  q = r div r'\n",
        "        r, r', s, s', t, t' = r', r − q × r', s', s − q × s', t', t − q × t'\n",
        "    2: Outup\n",
        "\n",
        "Na função *trans* são dadas as possiveis transições de estado do ciclo. O programa só pode entrar no ciclo se estiver no estado 0 (t01), o programa só pode sair do ciclo se verificar a propriedade 0 (t02), o programa so pode voltar ao estado 0 após executar o código 1 (t10) e o programa estando no estado 2 apenas pode continuar no estado 2."
      ],
      "metadata": {
        "id": "XBFkEY2YfHum"
      }
    },
    {
      "cell_type": "code",
      "source": [
        "def trans(curr,prox):\n",
        "\n",
        "    t01 = And(Equals(curr['pc'],Int(0)), Not(Equals(curr['r_'],Int(0))), Equals(prox['pc'],Int(1)),\n",
        "              Equals(prox['r'],curr['r']), Equals(prox['r_'],curr['r_']),\n",
        "              Equals(prox['s'],curr['s']), Equals(prox['s_'],curr['s_']),\n",
        "              Equals(prox['t'],curr['t']), Equals(prox['t_'],curr['t_']),\n",
        "              Equals(prox['q'],curr['q']))\n",
        "\n",
        "    t02 = And(Equals(curr['pc'],Int(0)), Equals(curr['r_'],Int(0)), Equals(prox['pc'],Int(2)),\n",
        "              Equals(prox['r'],curr['r']), Equals(prox['r_'],curr['r_']),\n",
        "              Equals(prox['s'],curr['s']), Equals(prox['s_'],curr['s_']),\n",
        "              Equals(prox['t'],curr['t']), Equals(prox['t_'],curr['t_']),\n",
        "              Equals(prox['q'],curr['q']))\n",
        "\n",
        "    t10 = And(Equals(curr['pc'],Int(1)), Equals(prox['pc'],Int(0)),\n",
        "              Equals(curr['q'], Div(curr['r'],curr['r_'])),\n",
        "              Equals(prox['r'],curr['r_']), Equals(prox['r_'], Minus(curr['r'],Times(curr['q'],curr['r_']))),\n",
        "              Equals(prox['s'],curr['s_']), Equals(prox['s_'], Minus(curr['s'],Times(curr['q'],curr['s_']))),\n",
        "              Equals(prox['t'],curr['t_']), Equals(prox['t_'], Minus(curr['t'],Times(curr['q'],curr['t_']))))\n",
        "\n",
        "    t22 = And(Equals(curr['pc'],Int(2)), Equals(prox['pc'],Int(2)),\n",
        "              Equals(prox['r'],curr['r']), Equals(prox['r_'],curr['r_']),\n",
        "              Equals(prox['s'],curr['s']), Equals(prox['s_'],curr['s_']),\n",
        "              Equals(prox['t'],curr['t']), Equals(prox['t_'],curr['t_']),\n",
        "              Equals(prox['q'],curr['q']))\n",
        "\n",
        "    return Or(t01,t02,t10,t22)"
      ],
      "metadata": {
        "id": "XLqqaq7TtCG6"
      },
      "execution_count": 6,
      "outputs": []
    },
    {
      "cell_type": "markdown",
      "source": [
        "#### Euclides\n",
        "\n",
        "Nesta porção de código, o programa, com o solver, invoca a função *declare* para declarar as variáveis para cada passo do algoritmo. No solver são adicionadas as condições de inicialização do primeiro estado e a função *trans* para todos os estados consecutivos.\n",
        "Por fim, o programa termina imprimindo as variáveis r,s e t do ultimo estado."
      ],
      "metadata": {
        "id": "NPdnPLMJg0Fc"
      }
    },
    {
      "cell_type": "code",
      "source": [
        "def euclides(declare,init,trans,k):\n",
        "    with Solver(name=\"z3\") as solver:\n",
        "      states = [declare(i) for i in range(k)]\n",
        "\n",
        "      solver.add_assertion(init(states[0]))\n",
        "      solver.add_assertion(And(trans(states[i],states[i+1]) for i in range(k-1)))\n",
        "\n",
        "      if solver.solve():\n",
        "        print(\"r =\",solver.get_value(states[-1][\"r\"]),\" s =\",solver.get_value( states[-1][\"s\"]),\" t =\",solver.get_value(states[-1][\"t\"]))\n",
        "        print(f'mdc({a},{b}) = {solver.get_value(states[-1][\"r\"])}')\n",
        "\n",
        "euclides(declare,init,trans,n)"
      ],
      "metadata": {
        "colab": {
          "base_uri": "https://localhost:8080/"
        },
        "id": "sYnDmPjmuBvN",
        "outputId": "a2ea51a5-5de5-4caf-9c16-2a80bb226416"
      },
      "execution_count": 36,
      "outputs": [
        {
          "output_type": "stream",
          "name": "stdout",
          "text": [
            "r = 5  s = 1  t = -1\n",
            "mdc(20,15) = 5\n"
          ]
        }
      ]
    },
    {
      "cell_type": "markdown",
      "source": [
        "### Exercício 1.2\n",
        "\n",
        "\n",
        "  2. Considere como propriedade de segurança:\n",
        "                        safety = (r > 0) and (r < N) and (r = a*s + b*t)\n",
        "  Prove usando k-indução que esta propriedade se verifica em qualquer traço do FOTS."
      ],
      "metadata": {
        "id": "Ot_M2EjnyZfm"
      }
    },
    {
      "cell_type": "markdown",
      "source": [
        "#### Invariante\n",
        "\n",
        "Começemos por transformar a propriedade safety em um conjunto de invariantes. Esta condição deverá ser verdadeira por k interações."
      ],
      "metadata": {
        "id": "V8ELVcfFjF-J"
      }
    },
    {
      "cell_type": "code",
      "source": [
        "def inv(state):\n",
        "\n",
        "  p1 = GT(state['r'],Int(0))\n",
        "  p2 = LT(state['r'],Int(n))\n",
        "  p3 = Equals(state['r'], Plus(Times(Int(a),state['s']), Times(Int(b),state['t'])))\n",
        "\n",
        "  return And(p1,p2,p3)"
      ],
      "metadata": {
        "id": "Iw96aoF7zhJ2"
      },
      "execution_count": 7,
      "outputs": []
    },
    {
      "cell_type": "markdown",
      "source": [
        "#### K-Indução\n",
        "\n",
        "A k-indução procura provar que se para um dado k interações, o problema for satisfazivel a uma dado invariante, então ele permanecerá assim para todo o problema."
      ],
      "metadata": {
        "id": "I3QgxCqujWnB"
      }
    },
    {
      "cell_type": "code",
      "source": [
        "def kinduction_always(declare,init,trans,inv,k):\n",
        "    with Solver(name=\"z3\") as solver:\n",
        "        states = [declare(i) for i in range(k)]\n",
        "\n",
        "        solver.add_assertion(init(states[0]))\n",
        "\n",
        "        solver.add_assertion(And(trans(states[i],states[i+1]) for i in range(k-1)))\n",
        "\n",
        "        for i in range(k):\n",
        "            solver.push()\n",
        "            solver.add_assertion(Not(inv(states[i])))\n",
        "            if solver.solve():\n",
        "                print(f\"> Contradição! O invariante não se verifica nos k estados iniciais.\")\n",
        "                for st in states:\n",
        "                    print(\"x, pc, inv: \", solver.get_value(st['x']), solver.get_value(st['pc']))\n",
        "                return\n",
        "            solver.pop()\n",
        "\n",
        "        state2 = [declare(i+k) for i in range(k+1)]\n",
        "\n",
        "        for i in range(k):\n",
        "            solver.add_assertion(inv(state2[i]))\n",
        "            solver.add_assertion(trans(state2[i],state2[i+1]))\n",
        "\n",
        "        solver.add_assertion(Not(inv(state2[-1])))\n",
        "\n",
        "        if solver.solve():\n",
        "            print(f\"> Contradição! O passo indutivo não se verifica.\")\n",
        "            for i,state in enumerate(states):\n",
        "                print(f\"> State {i}: x = {solver.get_value(state['x'])}, pc= {solver.get_value(state['pc'])}.\")\n",
        "            return\n",
        "\n",
        "        print(f\"> A propriedade verifica-se por k-indução (k={k}).\")\n",
        "\n",
        "kinduction_always(declare,init,trans,inv,3)"
      ],
      "metadata": {
        "colab": {
          "base_uri": "https://localhost:8080/"
        },
        "id": "9QD7l3qhzf2g",
        "outputId": "63971595-f5d0-45a7-e1d1-8409a15ee48b"
      },
      "execution_count": 8,
      "outputs": [
        {
          "output_type": "stream",
          "name": "stdout",
          "text": [
            "> A propriedade verifica-se por k-indução (k=3).\n"
          ]
        }
      ]
    },
    {
      "cell_type": "markdown",
      "source": [
        "### Exercício 1.3\n",
        "\n",
        "Prove usando “Model-Checking” com interpelantes e invariantes prove também que esta propriedade é um invariante em qualquer traço de $\\,\\Sigma\\,$."
      ],
      "metadata": {
        "id": "CQ4lIx0rz6m_"
      }
    },
    {
      "cell_type": "markdown",
      "source": [
        "Para a realização deste exercício, será necessário transformar o FOTS em SFOTS.\n",
        "Isso implica o desenvolvimento de um codigo novo baseado no FOTS já desenvolvido."
      ],
      "metadata": {
        "id": "7Yz3GtHk9c_9"
      }
    },
    {
      "cell_type": "code",
      "source": [
        "def baseName(s):\n",
        "    return ''.join(list(itertools.takewhile(lambda x: x!='!', s)))\n",
        "\n",
        "def rename(form,state):\n",
        "    vs = get_free_variables(form)\n",
        "    pairs = [ (x,state[baseName(x.symbol_name())]) for x in vs ]\n",
        "    return form.substitute(dict(pairs))\n",
        "\n",
        "def same(state1,state2):\n",
        "    return And([Equals(state1[x],state2[x]) for x in state1])\n",
        "\n",
        "def invert(trans):\n",
        "    return lambda curr, prox: trans(prox, curr)"
      ],
      "metadata": {
        "id": "NwRsCVdS93yo"
      },
      "execution_count": 9,
      "outputs": []
    },
    {
      "cell_type": "code",
      "source": [
        "def genState(vars,s,i):\n",
        "    state = {}\n",
        "    for v in vars:\n",
        "        state[v] = Symbol(v+'!'+s+str(i),INT)\n",
        "    return state"
      ],
      "metadata": {
        "id": "ZPq6ZGWi_LPX"
      },
      "execution_count": 10,
      "outputs": []
    },
    {
      "cell_type": "code",
      "source": [
        "def init1(s):\n",
        "    E = Equals(s['pc'],Int(0))\n",
        "\n",
        "    A = GT(Int(a),Int(0))\n",
        "    B = GT(Int(b),Int(0))\n",
        "\n",
        "    R = Equals(s['r'],Int(a))\n",
        "    R_ = Equals(s['r_'],Int(b))\n",
        "    S = Equals(s['s'], Int(1))\n",
        "    S_ = Equals(s['s_'],Int(0))\n",
        "    T = Equals(s['t'],Int(0))\n",
        "    T_ = Equals(s['t_'],Int(1))\n",
        "    Q = Equals(s['q'],Int(0))\n",
        "\n",
        "    return And(E,A,B,R,R_,S,S_,T,T_)\n"
      ],
      "metadata": {
        "id": "jXyWkKLn-0ZG"
      },
      "execution_count": 11,
      "outputs": []
    },
    {
      "cell_type": "code",
      "source": [
        "def trans1(curr,prox):\n",
        "\n",
        "    t01 = And(Equals(curr['pc'],Int(0)), Not(Equals(curr['r_'],Int(0))), Equals(prox['pc'],Int(1)),\n",
        "              Equals(prox['r'],curr['r']), Equals(prox['r_'],curr['r_']),\n",
        "              Equals(prox['s'],curr['s']), Equals(prox['s_'],curr['s_']),\n",
        "              Equals(prox['t'],curr['t']), Equals(prox['t_'],curr['t_']),\n",
        "              Equals(prox['q'],curr['q']))\n",
        "\n",
        "    t02 = And(Equals(curr['pc'],Int(0)), Equals(curr['r_'],Int(0)), Equals(prox['pc'],Int(2)),\n",
        "              Equals(prox['r'],curr['r']), Equals(prox['r_'],curr['r_']),\n",
        "              Equals(prox['s'],curr['s']), Equals(prox['s_'],curr['s_']),\n",
        "              Equals(prox['t'],curr['t']), Equals(prox['t_'],curr['t_']),\n",
        "              Equals(prox['q'],curr['q']))\n",
        "\n",
        "    t10 = And(Equals(curr['pc'],Int(1)), Equals(prox['pc'],Int(0)),\n",
        "              Equals(curr['q'], Div(curr['r'],curr['r_'])),\n",
        "              Equals(prox['r'],curr['r_']), Equals(prox['r_'], Minus(curr['r'],Times(curr['q'],curr['r_']))),\n",
        "              Equals(prox['s'],curr['s_']), Equals(prox['s_'], Minus(curr['s'],Times(curr['q'],curr['s_']))),\n",
        "              Equals(prox['t'],curr['t_']), Equals(prox['t_'], Minus(curr['t'],Times(curr['q'],curr['t_']))))\n",
        "\n",
        "    t22 = And(Equals(curr['pc'],Int(2)), Equals(prox['pc'],Int(2)),\n",
        "              Equals(prox['r'],curr['r']), Equals(prox['r_'],curr['r_']),\n",
        "              Equals(prox['s'],curr['s']), Equals(prox['s_'],curr['s_']),\n",
        "              Equals(prox['t'],curr['t']), Equals(prox['t_'],curr['t_']),\n",
        "              Equals(prox['q'],curr['q']))\n",
        "\n",
        "    return Or(t01,t02,t10,t22)"
      ],
      "metadata": {
        "id": "-iITxmpnBWx0"
      },
      "execution_count": 12,
      "outputs": []
    },
    {
      "cell_type": "code",
      "source": [
        "def error1(s):\n",
        "  return Equals(s[\"r\"],Int(0))"
      ],
      "metadata": {
        "id": "R7iRu5esCgjG"
      },
      "execution_count": 13,
      "outputs": []
    },
    {
      "cell_type": "code",
      "source": [
        "def genTrace(vars,init,trans,error,n):\n",
        "    with Solver(name=\"z3\") as s:\n",
        "        X = [genState(vars,'X',i) for i in range(n+1)]   # cria n+1 estados (com etiqueta X)\n",
        "        I = init(X[0])\n",
        "        Tks = [ trans(X[i],X[i+1]) for i in range(n) ]\n",
        "\n",
        "        if s.solve([I,And(Tks)]):      # testa se I /\\ T^n  é satisfazível\n",
        "            for i in range(n):\n",
        "                print(\"Estado:\",i)\n",
        "                for v in X[i]:\n",
        "                    print(\"          \",v,'=',s.get_value(X[i][v]))"
      ],
      "metadata": {
        "id": "4svyjIbhEVwY"
      },
      "execution_count": 14,
      "outputs": []
    },
    {
      "cell_type": "code",
      "source": [
        "genTrace(['pc','r','r_','s','s_','t','t_','q'],init1,trans1,error1, 5)"
      ],
      "metadata": {
        "colab": {
          "base_uri": "https://localhost:8080/"
        },
        "id": "xTjiuSL8EaB9",
        "outputId": "b85d6ed7-ddb9-480f-c57b-bc5195e3543a"
      },
      "execution_count": 15,
      "outputs": [
        {
          "output_type": "stream",
          "name": "stdout",
          "text": [
            "Estado: 0\n",
            "           pc = 0\n",
            "           r = 20\n",
            "           r_ = 15\n",
            "           s = 1\n",
            "           s_ = 0\n",
            "           t = 0\n",
            "           t_ = 1\n",
            "           q = 1\n",
            "Estado: 1\n",
            "           pc = 1\n",
            "           r = 20\n",
            "           r_ = 15\n",
            "           s = 1\n",
            "           s_ = 0\n",
            "           t = 0\n",
            "           t_ = 1\n",
            "           q = 1\n",
            "Estado: 2\n",
            "           pc = 0\n",
            "           r = 15\n",
            "           r_ = 5\n",
            "           s = 0\n",
            "           s_ = 1\n",
            "           t = 1\n",
            "           t_ = -1\n",
            "           q = 3\n",
            "Estado: 3\n",
            "           pc = 1\n",
            "           r = 15\n",
            "           r_ = 5\n",
            "           s = 0\n",
            "           s_ = 1\n",
            "           t = 1\n",
            "           t_ = -1\n",
            "           q = 3\n",
            "Estado: 4\n",
            "           pc = 0\n",
            "           r = 5\n",
            "           r_ = 0\n",
            "           s = 1\n",
            "           s_ = -3\n",
            "           t = -1\n",
            "           t_ = 4\n",
            "           q = 0\n"
          ]
        }
      ]
    },
    {
      "cell_type": "code",
      "source": [
        "def model_checking(vars,init,trans,error,N,M):\n",
        "    with Solver(name=\"z3\") as solver:\n",
        "\n",
        "        # Criar todos os estados que poderão vir a ser necessários.\n",
        "        X = [genState(vars,'X',i) for i in range(N+1)]\n",
        "        Y = [genState(vars,'Y',i) for i in range(M+1)]\n",
        "        transt = invert(trans)\n",
        "\n",
        "        # Estabelecer a ordem pela qual os pares (n,m) vão surgir. Por exemplo:\n",
        "        order = sorted([(a,b) for a in range(1,N+1) for b in range(1,M+1)],key=lambda tup:tup[0]+tup[1])\n",
        "\n",
        "        # Step 1 implícito na ordem de 'order' e nas definições de Rn, Um.\n",
        "        for (n,m) in order:\n",
        "            # Step 2.\n",
        "            I = init(X[0])\n",
        "            Tn = And([trans(X[i], X[i+1]) for i in range(n)])\n",
        "            Rn = And(I, Tn)\n",
        "\n",
        "            E = error(Y[0])\n",
        "            Bm = And([transt(Y[i], Y[i+1]) for i in range(m)])\n",
        "            Um = And(E, Bm)\n",
        "\n",
        "            Vnm = And(Rn, same(X[n], Y[m]), Um)\n",
        "            if solver.solve([Vnm]):\n",
        "                print(\"> O sistema é inseguro.\")\n",
        "                return\n",
        "            else:\n",
        "                # Step 3.\n",
        "                A = And(Rn, same(X[n], Y[m]))\n",
        "                B = Um\n",
        "                C = binary_interpolant(A, B)\n",
        "\n",
        "                # Salvaguardar cálculo bem-sucedido do interpolante.\n",
        "                if C is None:\n",
        "                    print(\"> O interpolante é None.\")\n",
        "                    break\n",
        "\n",
        "                # Step 4.\n",
        "                C0 = rename(C, X[0])\n",
        "                T = trans(X[0], X[1])\n",
        "                C1 = rename(C, X[1])\n",
        "\n",
        "                if not solver.solve([C0, T, Not(C1)]):\n",
        "                    # C é invariante de T.\n",
        "                    print(\"> O sistema é seguro.\")\n",
        "                    return\n",
        "                else:\n",
        "                    # Step 5.1.\n",
        "                    S = rename(C, X[n])\n",
        "                    while True:\n",
        "                        # Step 5.2.\n",
        "                        T = trans(X[n], Y[m])\n",
        "                        A = And(S, T)\n",
        "                        if solver.solve([A, Um]):\n",
        "                            print(\"> Não foi encontrado majorante.\")\n",
        "                            break\n",
        "                        else:\n",
        "                            # Step 5.3.\n",
        "                            C = binary_interpolant(A, Um)\n",
        "                            Cn = rename(C, X[n])\n",
        "                            if not solver.solve([Cn, Not(S)]):\n",
        "                                # Step 5.4.\n",
        "                                # C(Xn) -> S é tautologia.\n",
        "                                print(\"> O sistema é seguro.\")\n",
        "                                return\n",
        "                            else:\n",
        "                                # Step 5.5.\n",
        "                                # C(Xn) -> S não é tautologia.\n",
        "                                S = Or(S, Cn)\n",
        "\n",
        "    print(\"> Não foi provada a segurança ou insegurança do sistema.\")\n",
        "\n",
        "model_checking(['pc','r','r_','s','s_','t','t_','q'], init1, trans1, error1, 40, 40)"
      ],
      "metadata": {
        "id": "TeLDsjLRxVbs",
        "colab": {
          "base_uri": "https://localhost:8080/",
          "height": 372
        },
        "outputId": "b56988d5-47ca-4f3d-f319-435b34966cd3"
      },
      "execution_count": 37,
      "outputs": [
        {
          "output_type": "error",
          "ename": "NoSolverAvailableError",
          "evalue": "ignored",
          "traceback": [
            "\u001b[0;31m---------------------------------------------------------------------------\u001b[0m",
            "\u001b[0;31mNoSolverAvailableError\u001b[0m                    Traceback (most recent call last)",
            "\u001b[0;32m<ipython-input-37-e0258c7d7855>\u001b[0m in \u001b[0;36m<cell line: 73>\u001b[0;34m()\u001b[0m\n\u001b[1;32m     71\u001b[0m     \u001b[0mprint\u001b[0m\u001b[0;34m(\u001b[0m\u001b[0;34m\"> Não foi provada a segurança ou insegurança do sistema.\"\u001b[0m\u001b[0;34m)\u001b[0m\u001b[0;34m\u001b[0m\u001b[0;34m\u001b[0m\u001b[0m\n\u001b[1;32m     72\u001b[0m \u001b[0;34m\u001b[0m\u001b[0m\n\u001b[0;32m---> 73\u001b[0;31m \u001b[0mmodel_checking\u001b[0m\u001b[0;34m(\u001b[0m\u001b[0;34m[\u001b[0m\u001b[0;34m'pc'\u001b[0m\u001b[0;34m,\u001b[0m\u001b[0;34m'r'\u001b[0m\u001b[0;34m,\u001b[0m\u001b[0;34m'r_'\u001b[0m\u001b[0;34m,\u001b[0m\u001b[0;34m's'\u001b[0m\u001b[0;34m,\u001b[0m\u001b[0;34m's_'\u001b[0m\u001b[0;34m,\u001b[0m\u001b[0;34m't'\u001b[0m\u001b[0;34m,\u001b[0m\u001b[0;34m't_'\u001b[0m\u001b[0;34m,\u001b[0m\u001b[0;34m'q'\u001b[0m\u001b[0;34m]\u001b[0m\u001b[0;34m,\u001b[0m \u001b[0minit1\u001b[0m\u001b[0;34m,\u001b[0m \u001b[0mtrans1\u001b[0m\u001b[0;34m,\u001b[0m \u001b[0merror1\u001b[0m\u001b[0;34m,\u001b[0m \u001b[0;36m40\u001b[0m\u001b[0;34m,\u001b[0m \u001b[0;36m40\u001b[0m\u001b[0;34m)\u001b[0m\u001b[0;34m\u001b[0m\u001b[0;34m\u001b[0m\u001b[0m\n\u001b[0m",
            "\u001b[0;32m<ipython-input-37-e0258c7d7855>\u001b[0m in \u001b[0;36mmodel_checking\u001b[0;34m(vars, init, trans, error, N, M)\u001b[0m\n\u001b[1;32m     29\u001b[0m                 \u001b[0mA\u001b[0m \u001b[0;34m=\u001b[0m \u001b[0mAnd\u001b[0m\u001b[0;34m(\u001b[0m\u001b[0mRn\u001b[0m\u001b[0;34m,\u001b[0m \u001b[0msame\u001b[0m\u001b[0;34m(\u001b[0m\u001b[0mX\u001b[0m\u001b[0;34m[\u001b[0m\u001b[0mn\u001b[0m\u001b[0;34m]\u001b[0m\u001b[0;34m,\u001b[0m \u001b[0mY\u001b[0m\u001b[0;34m[\u001b[0m\u001b[0mm\u001b[0m\u001b[0;34m]\u001b[0m\u001b[0;34m)\u001b[0m\u001b[0;34m)\u001b[0m\u001b[0;34m\u001b[0m\u001b[0;34m\u001b[0m\u001b[0m\n\u001b[1;32m     30\u001b[0m                 \u001b[0mB\u001b[0m \u001b[0;34m=\u001b[0m \u001b[0mUm\u001b[0m\u001b[0;34m\u001b[0m\u001b[0;34m\u001b[0m\u001b[0m\n\u001b[0;32m---> 31\u001b[0;31m                 \u001b[0mC\u001b[0m \u001b[0;34m=\u001b[0m \u001b[0mbinary_interpolant\u001b[0m\u001b[0;34m(\u001b[0m\u001b[0mA\u001b[0m\u001b[0;34m,\u001b[0m \u001b[0mB\u001b[0m\u001b[0;34m)\u001b[0m\u001b[0;34m\u001b[0m\u001b[0;34m\u001b[0m\u001b[0m\n\u001b[0m\u001b[1;32m     32\u001b[0m \u001b[0;34m\u001b[0m\u001b[0m\n\u001b[1;32m     33\u001b[0m                 \u001b[0;31m# Salvaguardar cálculo bem-sucedido do interpolante.\u001b[0m\u001b[0;34m\u001b[0m\u001b[0;34m\u001b[0m\u001b[0m\n",
            "\u001b[0;32m/usr/local/lib/python3.10/dist-packages/pysmt/shortcuts.py\u001b[0m in \u001b[0;36mbinary_interpolant\u001b[0;34m(formula_a, formula_b, solver_name, logic)\u001b[0m\n\u001b[1;32m   1151\u001b[0m             \u001b[0mformulas\u001b[0m\u001b[0;34m[\u001b[0m\u001b[0mi\u001b[0m\u001b[0;34m]\u001b[0m \u001b[0;34m=\u001b[0m \u001b[0menv\u001b[0m\u001b[0;34m.\u001b[0m\u001b[0mformula_manager\u001b[0m\u001b[0;34m.\u001b[0m\u001b[0mnormalize\u001b[0m\u001b[0;34m(\u001b[0m\u001b[0mf\u001b[0m\u001b[0;34m)\u001b[0m\u001b[0;34m\u001b[0m\u001b[0;34m\u001b[0m\u001b[0m\n\u001b[1;32m   1152\u001b[0m \u001b[0;34m\u001b[0m\u001b[0m\n\u001b[0;32m-> 1153\u001b[0;31m     return env.factory.binary_interpolant(formulas[0], formulas[1],\n\u001b[0m\u001b[1;32m   1154\u001b[0m                                           \u001b[0msolver_name\u001b[0m\u001b[0;34m=\u001b[0m\u001b[0msolver_name\u001b[0m\u001b[0;34m,\u001b[0m\u001b[0;34m\u001b[0m\u001b[0;34m\u001b[0m\u001b[0m\n\u001b[1;32m   1155\u001b[0m                                           logic=logic)\n",
            "\u001b[0;32m/usr/local/lib/python3.10/dist-packages/pysmt/factory.py\u001b[0m in \u001b[0;36mbinary_interpolant\u001b[0;34m(self, formula_a, formula_b, solver_name, logic)\u001b[0m\n\u001b[1;32m    560\u001b[0m             \u001b[0mlogic\u001b[0m \u001b[0;34m=\u001b[0m \u001b[0mget_logic\u001b[0m\u001b[0;34m(\u001b[0m\u001b[0m_And\u001b[0m\u001b[0;34m(\u001b[0m\u001b[0mformula_a\u001b[0m\u001b[0;34m,\u001b[0m \u001b[0mformula_b\u001b[0m\u001b[0;34m)\u001b[0m\u001b[0;34m)\u001b[0m\u001b[0;34m\u001b[0m\u001b[0;34m\u001b[0m\u001b[0m\n\u001b[1;32m    561\u001b[0m \u001b[0;34m\u001b[0m\u001b[0m\n\u001b[0;32m--> 562\u001b[0;31m         \u001b[0;32mwith\u001b[0m \u001b[0mself\u001b[0m\u001b[0;34m.\u001b[0m\u001b[0mInterpolator\u001b[0m\u001b[0;34m(\u001b[0m\u001b[0mname\u001b[0m\u001b[0;34m=\u001b[0m\u001b[0msolver_name\u001b[0m\u001b[0;34m,\u001b[0m \u001b[0mlogic\u001b[0m\u001b[0;34m=\u001b[0m\u001b[0mlogic\u001b[0m\u001b[0;34m)\u001b[0m \u001b[0;32mas\u001b[0m \u001b[0mitp\u001b[0m\u001b[0;34m:\u001b[0m\u001b[0;34m\u001b[0m\u001b[0;34m\u001b[0m\u001b[0m\n\u001b[0m\u001b[1;32m    563\u001b[0m             \u001b[0;32mreturn\u001b[0m \u001b[0mitp\u001b[0m\u001b[0;34m.\u001b[0m\u001b[0mbinary_interpolant\u001b[0m\u001b[0;34m(\u001b[0m\u001b[0mformula_a\u001b[0m\u001b[0;34m,\u001b[0m \u001b[0mformula_b\u001b[0m\u001b[0;34m)\u001b[0m\u001b[0;34m\u001b[0m\u001b[0;34m\u001b[0m\u001b[0m\n\u001b[1;32m    564\u001b[0m \u001b[0;34m\u001b[0m\u001b[0m\n",
            "\u001b[0;32m/usr/local/lib/python3.10/dist-packages/pysmt/factory.py\u001b[0m in \u001b[0;36mInterpolator\u001b[0;34m(self, name, logic)\u001b[0m\n\u001b[1;32m    450\u001b[0m \u001b[0;34m\u001b[0m\u001b[0m\n\u001b[1;32m    451\u001b[0m     \u001b[0;32mdef\u001b[0m \u001b[0mInterpolator\u001b[0m\u001b[0;34m(\u001b[0m\u001b[0mself\u001b[0m\u001b[0;34m,\u001b[0m \u001b[0mname\u001b[0m\u001b[0;34m=\u001b[0m\u001b[0;32mNone\u001b[0m\u001b[0;34m,\u001b[0m \u001b[0mlogic\u001b[0m\u001b[0;34m=\u001b[0m\u001b[0;32mNone\u001b[0m\u001b[0;34m)\u001b[0m\u001b[0;34m:\u001b[0m\u001b[0;34m\u001b[0m\u001b[0;34m\u001b[0m\u001b[0m\n\u001b[0;32m--> 452\u001b[0;31m         \u001b[0;32mreturn\u001b[0m \u001b[0mself\u001b[0m\u001b[0;34m.\u001b[0m\u001b[0mget_interpolator\u001b[0m\u001b[0;34m(\u001b[0m\u001b[0mname\u001b[0m\u001b[0;34m=\u001b[0m\u001b[0mname\u001b[0m\u001b[0;34m,\u001b[0m \u001b[0mlogic\u001b[0m\u001b[0;34m=\u001b[0m\u001b[0mlogic\u001b[0m\u001b[0;34m)\u001b[0m\u001b[0;34m\u001b[0m\u001b[0;34m\u001b[0m\u001b[0m\n\u001b[0m\u001b[1;32m    453\u001b[0m \u001b[0;34m\u001b[0m\u001b[0m\n\u001b[1;32m    454\u001b[0m     \u001b[0;32mdef\u001b[0m \u001b[0mis_sat\u001b[0m\u001b[0;34m(\u001b[0m\u001b[0mself\u001b[0m\u001b[0;34m,\u001b[0m \u001b[0mformula\u001b[0m\u001b[0;34m,\u001b[0m \u001b[0msolver_name\u001b[0m\u001b[0;34m=\u001b[0m\u001b[0;32mNone\u001b[0m\u001b[0;34m,\u001b[0m \u001b[0mlogic\u001b[0m\u001b[0;34m=\u001b[0m\u001b[0;32mNone\u001b[0m\u001b[0;34m,\u001b[0m \u001b[0mportfolio\u001b[0m\u001b[0;34m=\u001b[0m\u001b[0;32mNone\u001b[0m\u001b[0;34m)\u001b[0m\u001b[0;34m:\u001b[0m\u001b[0;34m\u001b[0m\u001b[0;34m\u001b[0m\u001b[0m\n",
            "\u001b[0;32m/usr/local/lib/python3.10/dist-packages/pysmt/factory.py\u001b[0m in \u001b[0;36mget_interpolator\u001b[0;34m(self, name, logic)\u001b[0m\n\u001b[1;32m    130\u001b[0m     \u001b[0;32mdef\u001b[0m \u001b[0mget_interpolator\u001b[0m\u001b[0;34m(\u001b[0m\u001b[0mself\u001b[0m\u001b[0;34m,\u001b[0m \u001b[0mname\u001b[0m\u001b[0;34m=\u001b[0m\u001b[0;32mNone\u001b[0m\u001b[0;34m,\u001b[0m \u001b[0mlogic\u001b[0m\u001b[0;34m=\u001b[0m\u001b[0;32mNone\u001b[0m\u001b[0;34m)\u001b[0m\u001b[0;34m:\u001b[0m\u001b[0;34m\u001b[0m\u001b[0;34m\u001b[0m\u001b[0m\n\u001b[1;32m    131\u001b[0m         \u001b[0mSolverClass\u001b[0m\u001b[0;34m,\u001b[0m \u001b[0mcloser_logic\u001b[0m \u001b[0;34m=\u001b[0m\u001b[0;31m \u001b[0m\u001b[0;31m\\\u001b[0m\u001b[0;34m\u001b[0m\u001b[0;34m\u001b[0m\u001b[0m\n\u001b[0;32m--> 132\u001b[0;31m            self._get_solver_class(solver_list=self._all_interpolators,\n\u001b[0m\u001b[1;32m    133\u001b[0m                                   \u001b[0msolver_type\u001b[0m\u001b[0;34m=\u001b[0m\u001b[0;34m\"Interpolator\"\u001b[0m\u001b[0;34m,\u001b[0m\u001b[0;34m\u001b[0m\u001b[0;34m\u001b[0m\u001b[0m\n\u001b[1;32m    134\u001b[0m                                   \u001b[0mpreference_list\u001b[0m\u001b[0;34m=\u001b[0m\u001b[0mself\u001b[0m\u001b[0;34m.\u001b[0m\u001b[0minterpolation_preference_list\u001b[0m\u001b[0;34m,\u001b[0m\u001b[0;34m\u001b[0m\u001b[0;34m\u001b[0m\u001b[0m\n",
            "\u001b[0;32m/usr/local/lib/python3.10/dist-packages/pysmt/factory.py\u001b[0m in \u001b[0;36m_get_solver_class\u001b[0;34m(self, solver_list, solver_type, preference_list, default_logic, name, logic)\u001b[0m\n\u001b[1;32m    183\u001b[0m \u001b[0;34m\u001b[0m\u001b[0m\n\u001b[1;32m    184\u001b[0m         \u001b[0;32melse\u001b[0m\u001b[0;34m:\u001b[0m\u001b[0;34m\u001b[0m\u001b[0;34m\u001b[0m\u001b[0m\n\u001b[0;32m--> 185\u001b[0;31m             raise NoSolverAvailableError(\"No %s is available for logic %s\" %\n\u001b[0m\u001b[1;32m    186\u001b[0m                                          (solver_type, logic))\n\u001b[1;32m    187\u001b[0m \u001b[0;34m\u001b[0m\u001b[0m\n",
            "\u001b[0;31mNoSolverAvailableError\u001b[0m: No Interpolator is available for logic QF_NIA"
          ]
        }
      ]
    }
  ]
}
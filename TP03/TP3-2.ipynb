{
 "cells": [
  {
   "cell_type": "markdown",
   "metadata": {},
   "source": [
    "#TP3"
   ]
  },
  {
   "cell_type": "markdown",
   "metadata": {},
   "source": [
    "Paulo Freitas - A100053\n",
    "\n",
    "\n",
    "Pedro Santos - A100110"
   ]
  },
  {
   "cell_type": "markdown",
   "metadata": {},
   "source": [
    "### Enunciado"
   ]
  },
  {
   "cell_type": "markdown",
   "id": "a62be481",
   "metadata": {},
   "source": [
    "Considere-se de novo o algoritmo estendido de Euclides apresentado no TP2  mas usando o tipo dos inteiros e um parâmetro $$N>0$$\n",
    "\n",
    "    INPUT  a, b : Int\n",
    "    assume  a > 0 and b > 0 and a < N and b < N\n",
    "    r, r', s, s', t, t' = a, b, 1, 0, 0, 1\n",
    "    while r' != 0\n",
    "      q = r div r'\n",
    "      r, r', s, s', t, t' = r', r − q × r', s', s − q × s', t', t − q × t'\n",
    "    OUTPUT r, s, t\n",
    "\n",
    "Exercício 2\n",
    "\n",
    "Este exercício é dirigido à prova de correção do algoritmo estendido de Euclides\n",
    "\n",
    "    1. Construa a asserção lógica que representa a pós-condição do algoritmo. Note que a definição da função gcd é gcd(a,b) = min{r > 0 | E [s,t] . r = a * s + b * t}.\n",
    "    2. Usando a metodologia do comando havoc para o ciclo, escreva o programa na linguagem dos comandos anotados (LPA). Codifique a pós-condição do algoritmo com um comando assert .\n",
    "    3. Construa codificações do programa LPA através de transformadores de predicados: “weakest pre-condition” e “strongest post-condition”. \n",
    "    4. Prove a correção  do programa LPA em ambas as codificações."
   ]
  },
  {
   "cell_type": "markdown",
   "metadata": {},
   "source": [
    "%%capture\n",
    "!yes | pip install pysmt\n",
    "!apt-get install libgmp3-dev\n",
    "!yes | pysmt-install --z3 --msat\n",
    "\n",
    "file = '/usr/local/lib/python3.10/dist-packages/pysmt/smtlib/parser/__init__.py'\n",
    "with open(file, 'r') as f:\n",
    "    code = f.read()\n",
    "    new_code = code.replace('USE_CYTHON = True', 'USE_CYTHON = False')\n",
    "\n",
    "with open(file, 'w') as f:\n",
    "  f.write(new_code)"
   ]
  },
  {
   "cell_type": "code",
   "execution_count": 1,
   "id": "659309e2",
   "metadata": {},
   "outputs": [],
   "source": [
    "from pysmt.shortcuts import *\n",
    "from pysmt.typing import INT,BVType\n",
    "from pysmt.logics import QF_NIA\n",
    "import itertools"
   ]
  },
  {
   "cell_type": "markdown",
   "metadata": {},
   "source": [
    "## EXERCÍCIO 2\n"
   ]
  },
  {
   "cell_type": "markdown",
   "id": "79189787",
   "metadata": {},
   "source": [
    "### Exercício 2.1"
   ]
  },
  {
   "cell_type": "code",
   "execution_count": 2,
   "id": "e8fce530",
   "metadata": {},
   "outputs": [
    {
     "name": "stdout",
     "output_type": "stream",
     "text": [
      "((! ((r_ <= r) & ((... + ...) = r_))) & ((0 < r) & (r < n) & (r = ((... * ...) + (... * ...)))))\n"
     ]
    }
   ],
   "source": [
    "a = Symbol('a',INT)\n",
    "b = Symbol('b',INT)\n",
    "r = Symbol('r',INT)\n",
    "\n",
    "n = Symbol('n',INT)\n",
    "r_ = Symbol('r_',INT)\n",
    "s = Symbol('s',INT)\n",
    "s_ = Symbol('s_',INT)\n",
    "t = Symbol('t',INT)\n",
    "t_ = Symbol('t_',INT)\n",
    "q = Symbol('q' ,INT)\n",
    "\n",
    "inv = And(GT(r,Int(0)), LT(r,n), Equals(r, Plus(Times(a,s), Times(b,t))))\n",
    "\n",
    "pos = And(Not(And(LE(r_, r), Equals(Plus(Times(a, s_), Times(b, t_)), r_))), inv)\n",
    "\n",
    "print(pos)"
   ]
  },
  {
   "cell_type": "markdown",
   "id": "73e4c489",
   "metadata": {},
   "source": [
    "## Exercício 2.2\n",
    "\n",
    "Usando a metodologia do comando havoc para o ciclo, escreva o programa na linguagem dos comandos anotados (LPA). Codifique a pós-condição do algoritmo com um comando assert ."
   ]
  },
  {
   "cell_type": "markdown",
   "metadata": {},
   "source": [
    "#### Auxiliar\n",
    "\n",
    "A função *prove* verifica a validade de uma certa formula lógica, com recurso a um solver."
   ]
  },
  {
   "cell_type": "code",
   "execution_count": 3,
   "id": "8abd9fe4",
   "metadata": {},
   "outputs": [],
   "source": [
    "def prove(f):\n",
    "    with Solver(name=\"z3\") as solver:\n",
    "        solver.add_assertion(Not(f))\n",
    "        if solver.solve():\n",
    "            print(\"Proved\")\n",
    "        else:\n",
    "            print(\"Failed to prove\")"
   ]
  },
  {
   "cell_type": "markdown",
   "metadata": {},
   "source": [
    "#### LPA com HAVOC\n",
    "\n",
    "Nesta porção de código, juntamos o metodo LPA com o havoc para provar a validade da formula. O LPA procura usar apenas predicados verdadeiro e o havoc altera esses mesmo predicados. Ou seja:\n",
    "\n",
    "w ≡ {assume b; S; W} || {^assume b} \n",
    "\n",
    "\n",
    "S = q = r div r'; r = r'; r' = r - q * r'; s = s'; s' = s - q * s'; t = t'; t' = t - q * t'  \n",
    "w = {assume r' != 0; q = r div r'; r = r'; r' = r - q * r'; s = s'; s' = s - q * s'; t = t'; t' = t - q * t'; W} || {assume not r' != 0}  \n"
   ]
  },
  {
   "cell_type": "code",
   "execution_count": 4,
   "id": "a8e8b2af",
   "metadata": {},
   "outputs": [
    {
     "name": "stdout",
     "output_type": "stream",
     "text": [
      "Proved\n",
      "Proved\n"
     ]
    }
   ],
   "source": [
    "func = Implies(And(Not(Equals(r, Int(0))),inv),substitute(\n",
    "    substitute(\n",
    "        substitute(\n",
    "            substitute(\n",
    "                substitute(\n",
    "                    substitute(inv,\n",
    "                               {t_:t - q * t}),\n",
    "                    {t:t_}),\n",
    "                {s_:s - q * s_}),\n",
    "            {s:s_}),\n",
    "        {r_:r - q * r_}),\n",
    "    {r:r_}))\n",
    "\n",
    "havoc = ForAll([r, r_, s, s_, t, t_], func)\n",
    "axioms = And(havoc, And(Equals(r, a), Equals(r_, b), Equals(s, Int(1)), Equals(s_, Int(0)), Equals(t, Int(0)), Equals(t_, Int(1))))\n",
    "\n",
    "prove(havoc)\n",
    "prove(axioms)"
   ]
  },
  {
   "cell_type": "markdown",
   "id": "1c9bbef5",
   "metadata": {},
   "source": [
    "### 2.3.1 Construa codificações do programa LPA através de transformadores de predicados: “weakest pre-condition”\n",
    "\n",
    "Neste código, procuramos mostrar que a pré condição é verdadeira. Para isso usamos uma metodologia LPA. Ou seja:\n",
    "\n",
    "\n",
    "[assume a > 0 and b > 0 and a < N and b < N; havoc f; r = a; r' = b; s = 1; s' = 0; t = 0; t' = 1;]  \n",
    "\n",
    "=\n",
    "\n",
    "(a > 0 and b > 0 and a < N and b < N) -> [havoc x and ([r = a]) [r' = b]) [s = 1]) [s' = 0]) [t = 0]) [t' = 1])), pos]"
   ]
  },
  {
   "cell_type": "code",
   "execution_count": 5,
   "id": "0a2b31d8",
   "metadata": {},
   "outputs": [],
   "source": [
    "WPC = substitute(\n",
    "        substitute(\n",
    "            substitute(\n",
    "                substitute(\n",
    "                    substitute(\n",
    "                        substitute(pos,{t_:Int(1)}),\n",
    "                        {t:Int(0)}),\n",
    "                    {s_:Int(0)}),\n",
    "                {s:Int(1)}),\n",
    "            {r_:b}),\n",
    "        {r:a})"
   ]
  },
  {
   "cell_type": "markdown",
   "id": "f73ad27a",
   "metadata": {},
   "source": [
    "### 2.3.2 Construa codificações do programa LPA através de transformadores de predicados: “strongest pos-condition”\n",
    "\n",
    "Neste código, procuramos mostrar que a pós condição é verdadeira. Para isso usamos uma metodologia LPA. Ou seja:\n",
    "\n",
    "[assume a > 0 and b > 0 and a < N and b < N; havoc x; r = a; r' = b; s = 1; s' = 0; t = 0; t' = 1; pos]  \n",
    "\n",
    "= [assume a > 0 and b > 0 and a < N and b < N; havoc x; r = a; r' = b; s = 1; s' = 0; t = 0; t' = 1;]  -> ((r = a * s + b * t and r > 0 and r < N), not(r_ <= r and r_= a * s_+ b * t_))\n",
    "\n",
    "= (a > 0 and b > 0 and a < N and b < N and havoc x and r = a and r' = b and s = 1 and s' = 0 and t = 0 and t' = 1) -> ((r = a * s + b * t and r > 0 and r < N), not(r_ <= r and r_= a * s_+ b * t_)))"
   ]
  },
  {
   "cell_type": "code",
   "execution_count": 6,
   "id": "cefb499e",
   "metadata": {},
   "outputs": [],
   "source": [
    "SPC = And(Equals(r, a),\n",
    "          Equals(r_, b),\n",
    "          Equals(s, Int(1)),\n",
    "          Equals(s_, Int(0)),\n",
    "          Equals(t, Int(0)),\n",
    "          Equals(t_, Int(1)),\n",
    "         )"
   ]
  },
  {
   "cell_type": "markdown",
   "metadata": {},
   "source": [
    "## 2.4 Prove a correção  do programa LPA em ambas as codificações.\n",
    "\n",
    "Basta invocar a WPC e SPC para fazer a prova."
   ]
  },
  {
   "cell_type": "code",
   "execution_count": 7,
   "id": "bcb70a08",
   "metadata": {},
   "outputs": [
    {
     "name": "stdout",
     "output_type": "stream",
     "text": [
      "WPC\n",
      "Proved\n",
      "SPC\n",
      "Proved\n"
     ]
    }
   ],
   "source": [
    "pre = (a > 0) and (b > 0) and (a < n) and (b < n)\n",
    "\n",
    "WPC_final = Implies(pre, \n",
    "                    And(WPC,\n",
    "                       axioms,\n",
    "                       pos))\n",
    "\n",
    "SPC_final = Implies(And(pre,\n",
    "                    axioms,\n",
    "                    SPC),\n",
    "                    pos)\n",
    "\n",
    "print('WPC')\n",
    "prove(WPC_final)\n",
    "print('SPC')\n",
    "prove(SPC_final)"
   ]
  }
 ],
 "metadata": {
  "kernelspec": {
   "display_name": "Python 3 (ipykernel)",
   "language": "python",
   "name": "python3"
  },
  "language_info": {
   "codemirror_mode": {
    "name": "ipython",
    "version": 3
   },
   "file_extension": ".py",
   "mimetype": "text/x-python",
   "name": "python",
   "nbconvert_exporter": "python",
   "pygments_lexer": "ipython3",
   "version": "3.10.13"
  }
 },
 "nbformat": 4,
 "nbformat_minor": 5
}

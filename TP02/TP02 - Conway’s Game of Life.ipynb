{
 "cells": [
  {
   "cell_type": "markdown",
   "id": "c728ec64",
   "metadata": {},
   "source": [
    "# Trabalho 2 - Conway’s Game of Life"
   ]
  },
  {
   "cell_type": "markdown",
   "id": "91f8e25c",
   "metadata": {},
   "source": [
    "Paulo Jorge Fernandes Freitas - A100053 & Pedro Manuel Pereira dos Santos - A100110"
   ]
  },
  {
   "cell_type": "markdown",
   "id": "460614e4",
   "metadata": {},
   "source": [
    "2. O Conway’s Game of Life é um exemplo conhecido de um autómato celular . Aqui vamos modificar as regras do autómato de forma a usar um espaço de estados finito\n",
    "    1. O espaço de estados é finito definido por uma grelha de células booleanas (morta=0/viva=1) de dimensão $\\,N\\times N\\,$ (com $N>3$) identificadas por índices $\\,(i,j)\\in \\{1..N\\}$.  Estas $\\;N^2\\;$ células são aqui referidas como “normais”. \n",
    "    2. No estado inicial todas as células normais estão mortas excepto  um quadrado $\\,3\\times 3\\,$, designado por “centro”, aleatoriamente posicionado formado apenas por células vivas.\n",
    "    3. Adicionalmente existem $\\,2\\,N+1\\,$ “células da borda” que correspondem a um dos índices, $i$ ou $j$, ser zero. As células da borda têm valores constantes que, no estado inicial, são gerados aleatoriamente com uma probabilidade $\\,\\rho\\,$ de estarem vivas.\n",
    "    4. As células normais o autómato modificam o estado de acordo com a regra “B3/S23”: i.e. a célula nasce (passa de $0$ a $1$) se tem exatamente 3 vizinhos vivos e sobrevive (mantém-se viva) se o número de vizinhos vivos é 2 ou 3, caso contrário morre ou continua morta. \n",
    "    \n",
    "**Nota:** A célula $\\;(i_0,j_0)\\;$ e $\\,(i_1,j_1)\\,$ são vizinhas sse $\\;(i_0-i_1=\\pm 1) \\,\\lor\\, (j_0-j_1 = \\pm 1)$"
   ]
  },
  {
   "cell_type": "markdown",
   "id": "82f37d73",
   "metadata": {},
   "source": [
    "## Análise do problema\n",
    "\n",
    "Após a construção do Conway’s Game of Life, é necessario:\n",
    "\n",
    "A. Construir uma máquina de estados finita que represente este autómato;  \n",
    "B. Verificar se se conseguem provar as seguintes propriedades:\n",
    "1. Todos os estados acessíveis contém pelo menos uma célula.\n",
    "2. Toda a célula normal está viva pelo menos uma vez em algum estado acessível."
   ]
  },
  {
   "cell_type": "markdown",
   "id": "98f06008",
   "metadata": {},
   "source": [
    "**Variáeveis:**\n",
    "\n",
    "grid_N -> duplo com as linhas e colunas da matriz  \n",
    "gris -> matriz  \n",
    "x -> x do centro do quadrado 3x3  \n",
    "y -> y do centro do quadrado 3x3  \n",
    "updated_grid -> matriz atualizasa  \n",
    "days -> dias que o Game of life occorre  \n",
    "alive -> numero de células vivas vizinhas e a propia numa certa posição  "
   ]
  },
  {
   "cell_type": "markdown",
   "id": "3cf1680e",
   "metadata": {},
   "source": [
    "## Implementação\n",
    "\n",
    "Começamos por importar as bibliotecas:\n",
    "1. numpy para a matriz\n",
    "2. random para gerar aleatoriedades\n",
    "3. matplotlib.pyplot para dar print da matriz"
   ]
  },
  {
   "cell_type": "code",
   "execution_count": 1,
   "id": "0938eb1e",
   "metadata": {},
   "outputs": [],
   "source": [
    "import numpy as np\n",
    "import random\n",
    "import matplotlib.pyplot as plt"
   ]
  },
  {
   "cell_type": "markdown",
   "id": "dd97c794",
   "metadata": {},
   "source": [
    "Criação da matriz com tudo a zero"
   ]
  },
  {
   "cell_type": "code",
   "execution_count": 2,
   "id": "04e34ab8",
   "metadata": {},
   "outputs": [],
   "source": [
    "grid_N = (100,100)\n",
    "\n",
    "grid = np.zeros([grid_N[0],grid_N[1]])"
   ]
  },
  {
   "cell_type": "markdown",
   "id": "ca55d27d",
   "metadata": {},
   "source": [
    "## Condições\n",
    "\n",
    "Condiçao da alinea b), geração um quadrado 3x3 aleatoriamente (tirando centros como (0,0))."
   ]
  },
  {
   "cell_type": "code",
   "execution_count": 3,
   "id": "a1e8cc32",
   "metadata": {},
   "outputs": [],
   "source": [
    "x = random.randint(2,grid_N[0]-2)\n",
    "y = random.randint(2,grid_N[1]-2)\n",
    "\n",
    "for i in range(-1, 2):\n",
    "    for j in range(-1, 2):\n",
    "        grid[x + i][y + j] = 1"
   ]
  },
  {
   "cell_type": "markdown",
   "id": "948d5a22",
   "metadata": {},
   "source": [
    "Condiçao da alinea c), geração aleatoria de celulas vivas nas laterais"
   ]
  },
  {
   "cell_type": "code",
   "execution_count": 4,
   "id": "eab22cc7",
   "metadata": {
    "scrolled": false
   },
   "outputs": [],
   "source": [
    "for i in random.sample(range(0,grid_N[0]),random.randint(1,grid_N[0]-1)):\n",
    "    grid[i][0]=1\n",
    "\n",
    "for j in random.sample(range(0,grid_N[1]),random.randint(1,grid_N[1]-1)):\n",
    "    grid[0][j]=1"
   ]
  },
  {
   "cell_type": "markdown",
   "id": "d79c4000",
   "metadata": {},
   "source": [
    "## Programa do Conway’s Game of Life\n",
    "\n",
    "Faz days iterações com as regras do Conway’s Game of Life"
   ]
  },
  {
   "cell_type": "code",
   "execution_count": 5,
   "id": "08fad2f1",
   "metadata": {
    "scrolled": true
   },
   "outputs": [],
   "source": [
    "days = 100\n",
    "\n",
    "for d in range(days):    \n",
    "    updated_grid = np.zeros([grid.shape[0], grid.shape[1]])\n",
    "    \n",
    "    for row, col in np.ndindex(grid.shape):\n",
    "        #contar quantos vivos\n",
    "        alive = np.sum(grid[row-1:row+2, col-1:col+2]) - grid[row, col]\n",
    "        \n",
    "        if grid[row, col] == 1:\n",
    "            # se alive < 2 or alive > 3, nao e necessario fazer nada porque ja esta a zero\n",
    "            # se tiver 2 ou 3 vizinhos, a celula é viva\n",
    "            if 2 <= alive <= 3:\n",
    "                updated_grid[row, col] = 1\n",
    "        else:\n",
    "            #se tiver 3 vizinhos, a celula é viva\n",
    "            if alive == 3:\n",
    "                updated_grid[row, col] = 1\n",
    "    grid = updated_grid"
   ]
  },
  {
   "cell_type": "markdown",
   "id": "5dd955d5",
   "metadata": {},
   "source": [
    "## Impressão dos resultados"
   ]
  },
  {
   "cell_type": "code",
   "execution_count": 6,
   "id": "4ff1acd4",
   "metadata": {},
   "outputs": [
    {
     "data": {
      "image/png": "[encoded data removed]",
      "text/plain": [
       "<Figure size 640x480 with 1 Axes>"
      ]
     },
     "metadata": {},
     "output_type": "display_data"
    }
   ],
   "source": [
    "plt.pcolormesh(grid)\n",
    "plt.axis('on')\n",
    "plt.show()"
   ]
  }
 ],
 "metadata": {
  "kernelspec": {
   "display_name": "Python 3 (ipykernel)",
   "language": "python",
   "name": "python3"
  },
  "language_info": {
   "codemirror_mode": {
    "name": "ipython",
    "version": 3
   },
   "file_extension": ".py",
   "mimetype": "text/x-python",
   "name": "python",
   "nbconvert_exporter": "python",
   "pygments_lexer": "ipython3",
   "version": "3.10.13"
  }
 },
 "nbformat": 4,
 "nbformat_minor": 5
}

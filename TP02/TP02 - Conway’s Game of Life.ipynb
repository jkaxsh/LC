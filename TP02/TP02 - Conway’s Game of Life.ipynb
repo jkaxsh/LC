{
 "cells": [
  {
   "cell_type": "markdown",
   "id": "c728ec64",
   "metadata": {},
   "source": [
    "# Trabalho 2 - Conway’s Game of Life"
   ]
  },
  {
   "cell_type": "markdown",
   "id": "91f8e25c",
   "metadata": {},
   "source": [
    "Paulo Jorge Fernandes Freitas - A100053 & Pedro Manuel Pereira dos Santos - A100110"
   ]
  },
  {
   "cell_type": "markdown",
   "id": "460614e4",
   "metadata": {},
   "source": [
    "2. O Conway’s Game of Life é um exemplo conhecido de um autómato celular . Aqui vamos modificar as regras do autómato de forma a usar um espaço de estados finito\n",
    "    1. O espaço de estados é finito definido por uma grelha de células booleanas (morta=0/viva=1) de dimensão $\\,N\\times N\\,$ (com $N>3$) identificadas por índices $\\,(i,j)\\in \\{1..N\\}$.  Estas $\\;N^2\\;$ células são aqui referidas como “normais”. \n",
    "    2. No estado inicial todas as células normais estão mortas excepto  um quadrado $\\,3\\times 3\\,$, designado por “centro”, aleatoriamente posicionado formado apenas por células vivas.\n",
    "    3. Adicionalmente existem $\\,2\\,N+1\\,$ “células da borda” que correspondem a um dos índices, $i$ ou $j$, ser zero. As células da borda têm valores constantes que, no estado inicial, são gerados aleatoriamente com uma probabilidade $\\,\\rho\\,$ de estarem vivas.\n",
    "    4. As células normais o autómato modificam o estado de acordo com a regra “B3/S23”: i.e. a célula nasce (passa de $0$ a $1$) se tem exatamente 3 vizinhos vivos e sobrevive (mantém-se viva) se o número de vizinhos vivos é 2 ou 3, caso contrário morre ou continua morta. \n",
    "    \n",
    "**Nota:** A célula $\\;(i_0,j_0)\\;$ e $\\,(i_1,j_1)\\,$ são vizinhas sse $\\;(i_0-i_1=\\pm 1) \\,\\lor\\, (j_0-j_1 = \\pm 1)$"
   ]
  },
  {
   "cell_type": "markdown",
   "id": "82f37d73",
   "metadata": {},
   "source": [
    "## Análise do problema\n",
    "\n",
    "Após a construção do Conway’s Game of Life, é necessario:\n",
    "\n",
    "A. Construir uma máquina de estados finita que represente este autómato;  \n",
    "B. Verificar se se conseguem provar as seguintes propriedades:\n",
    "1. Todos os estados acessíveis contém pelo menos uma célula.\n",
    "2. Toda a célula normal está viva pelo menos uma vez em algum estado acessível."
   ]
  },
  {
   "cell_type": "markdown",
   "id": "98f06008",
   "metadata": {},
   "source": [
    "**Variáveis:**\n",
    "\n",
    "grid_N -> duplo com as linhas e colunas da matriz  \n",
    "gris -> matriz  \n",
    "x -> x do centro do quadrado 3x3  \n",
    "y -> y do centro do quadrado 3x3  \n",
    "updated_grid -> matriz atualizasa  \n",
    "days -> dias que o Game of life occorre  \n",
    "alive -> numero de células vivas vizinhas e a propia numa certa posição  "
   ]
  },
  {
   "cell_type": "markdown",
   "id": "3cf1680e",
   "metadata": {},
   "source": [
    "## Implementação\n",
    "\n",
    "Começamos por importar as bibliotecas:\n",
    "1. numpy para a matriz\n",
    "2. random para gerar aleatoriedades\n",
    "3. matplotlib.pyplot para dar print da matriz"
   ]
  },
  {
   "cell_type": "code",
   "execution_count": 1,
   "id": "0938eb1e",
   "metadata": {},
   "outputs": [],
   "source": [
    "import numpy as np\n",
    "import random\n",
    "import matplotlib.pyplot as plt"
   ]
  },
  {
   "cell_type": "markdown",
   "id": "dd97c794",
   "metadata": {},
   "source": [
    "Criação da matriz com tudo a zero"
   ]
  },
  {
   "cell_type": "code",
   "execution_count": 2,
   "id": "04e34ab8",
   "metadata": {},
   "outputs": [],
   "source": [
    "grid_N = (100,100)\n",
    "\n",
    "grid = np.zeros([grid_N[0],grid_N[1]])"
   ]
  },
  {
   "cell_type": "markdown",
   "id": "ca55d27d",
   "metadata": {},
   "source": [
    "## Condições\n",
    "\n",
    "Condiçao da alinea b), geração um quadrado 3x3 aleatoriamente (tirando centros como (0,0))."
   ]
  },
  {
   "cell_type": "code",
   "execution_count": 3,
   "id": "a1e8cc32",
   "metadata": {},
   "outputs": [],
   "source": [
    "x = random.randint(2,grid_N[0]-2)\n",
    "y = random.randint(2,grid_N[1]-2)\n",
    "\n",
    "for i in range(-1, 2):\n",
    "    for j in range(-1, 2):\n",
    "        grid[x + i][y + j] = 1"
   ]
  },
  {
   "cell_type": "markdown",
   "id": "948d5a22",
   "metadata": {},
   "source": [
    "Condiçao da alinea c), geração aleatoria de celulas vivas nas laterais"
   ]
  },
  {
   "cell_type": "code",
   "execution_count": 4,
   "id": "eab22cc7",
   "metadata": {
    "scrolled": false
   },
   "outputs": [],
   "source": [
    "for i in random.sample(range(0,grid_N[0]),random.randint(1,grid_N[0]-1)):\n",
    "    grid[i][0]=1\n",
    "\n",
    "for j in random.sample(range(0,grid_N[1]),random.randint(1,grid_N[1]-1)):\n",
    "    grid[0][j]=1"
   ]
  },
  {
   "cell_type": "markdown",
   "id": "d79c4000",
   "metadata": {},
   "source": [
    "## Programa do Conway’s Game of Life\n",
    "\n",
    "Faz days iterações com as regras do Conway’s Game of Life"
   ]
  },
  {
   "cell_type": "code",
   "execution_count": 5,
   "id": "08fad2f1",
   "metadata": {
    "scrolled": true
   },
   "outputs": [],
   "source": [
    "days = 100\n",
    "\n",
    "for d in range(days):    \n",
    "    updated_grid = np.zeros([grid.shape[0], grid.shape[1]])\n",
    "    \n",
    "    for row, col in np.ndindex(grid.shape):\n",
    "        #contar quantos vivos\n",
    "        alive = np.sum(grid[row-1:row+2, col-1:col+2]) - grid[row, col]\n",
    "        \n",
    "        if grid[row, col] == 1:\n",
    "            # se alive < 2 or alive > 3, nao e necessario fazer nada porque ja esta a zero\n",
    "            # se tiver 2 ou 3 vizinhos, a celula é viva\n",
    "            if 2 <= alive <= 3:\n",
    "                updated_grid[row, col] = 1\n",
    "        else:\n",
    "            #se tiver 3 vizinhos, a celula é viva\n",
    "            if alive == 3:\n",
    "                updated_grid[row, col] = 1\n",
    "    grid = updated_grid"
   ]
  },
  {
   "cell_type": "markdown",
   "id": "5dd955d5",
   "metadata": {},
   "source": [
    "## Impressão dos resultados"
   ]
  },
  {
   "cell_type": "code",
   "execution_count": 6,
   "id": "4ff1acd4",
   "metadata": {},
   "outputs": [
    {
     "data": {
      "image/png": "[encoded data removed]",
      "text/plain": [
       "<Figure size 640x480 with 1 Axes>"
      ]
     },
     "metadata": {},
     "output_type": "display_data"
    }
   ],
   "source": [
    "plt.pcolormesh(grid)\n",
    "plt.axis('on')\n",
    "plt.show()"
   ]
  },
  {
   "cell_type": "code",
   "execution_count": 3,
   "id": "5de23662",
   "metadata": {},
   "outputs": [],
   "source": [
    "x = random.randint(2,grid_N[0]-2)\n",
    "y = random.randint(2,grid_N[1]-2)\n",
    "\n",
    "for i in range(-1, 2):\n",
    "    for j in range(-1, 2):\n",
    "        grid[x + i][y + j] = True"
   ]
  },
  {
   "cell_type": "code",
   "execution_count": 4,
   "id": "058b16aa",
   "metadata": {},
   "outputs": [],
   "source": [
    "for i in random.sample(range(0,grid_N[0]),random.randint(1,grid_N[0]-1)):\n",
    "    grid[i][0]= True\n",
    "\n",
    "for j in random.sample(range(0,grid_N[1]),random.randint(1,grid_N[1]-1)):\n",
    "    grid[0][j]= True"
   ]
  },
  {
   "cell_type": "code",
   "execution_count": null,
   "id": "9cfa46c3",
   "metadata": {},
   "outputs": [],
   "source": [
    "##Ignora o que esta para cima"
   ]
  },
  {
   "cell_type": "code",
   "execution_count": 1,
   "id": "e20a95de",
   "metadata": {},
   "outputs": [],
   "source": [
    "from pysmt.shortcuts import Symbol, And, Solver, Not, Equals, Implies, LE, Int, GE, Plus, Or\n",
    "from pysmt.typing import BOOL\n",
    "from pysmt.smtlib.parser import SmtLibParser\n",
    "import random\n",
    "import numpy as np\n",
    "import matplotlib.pyplot as plt"
   ]
  },
  {
   "cell_type": "code",
   "execution_count": 2,
   "id": "6f4171f8",
   "metadata": {},
   "outputs": [],
   "source": [
    "grid_N = (10,10)\n",
    "\n",
    "grid = [[False for _ in range(grid_N[0])] for _ in range(grid_N[1])]"
   ]
  },
  {
   "cell_type": "code",
   "execution_count": 3,
   "id": "b266b922",
   "metadata": {
    "scrolled": false
   },
   "outputs": [
    {
     "ename": "PysmtTypeError",
     "evalue": "Expecting bool, got <class 'int'>",
     "output_type": "error",
     "traceback": [
      "\u001b[1;31m---------------------------------------------------------------------------\u001b[0m",
      "\u001b[1;31mPysmtTypeError\u001b[0m                            Traceback (most recent call last)",
      "Cell \u001b[1;32mIn[3], line 28\u001b[0m\n\u001b[0;32m     24\u001b[0m             neighbors \u001b[38;5;241m=\u001b[39m np\u001b[38;5;241m.\u001b[39mappend(neighbors, grid[ni][nj])\n\u001b[0;32m     26\u001b[0m \u001b[38;5;66;03m#for neighbor in neighbors:\u001b[39;00m\n\u001b[0;32m     27\u001b[0m     \u001b[38;5;66;03m#print(neighbor.is_true())\u001b[39;00m\n\u001b[1;32m---> 28\u001b[0m alive_neighbors \u001b[38;5;241m=\u001b[39m \u001b[38;5;28;43msum\u001b[39;49m\u001b[43m(\u001b[49m\u001b[43mneighbors\u001b[49m\u001b[43m)\u001b[49m\n\u001b[0;32m     29\u001b[0m current_cell \u001b[38;5;241m=\u001b[39m grid[i][j]\n\u001b[0;32m     30\u001b[0m rule \u001b[38;5;241m=\u001b[39m Or(And(current_cell, Equals(alive_neighbors, \u001b[38;5;241m2\u001b[39m)),\n\u001b[0;32m     31\u001b[0m           And(current_cell, Equals(alive_neighbors, \u001b[38;5;241m3\u001b[39m)),\n\u001b[0;32m     32\u001b[0m           And(Not(current_cell), Equals(alive_neighbors, \u001b[38;5;241m3\u001b[39m)))\n",
      "File \u001b[1;32m~\\anaconda3\\envs\\logica\\lib\\site-packages\\pysmt\\fnode.py:866\u001b[0m, in \u001b[0;36mFNode.__radd__\u001b[1;34m(self, right)\u001b[0m\n\u001b[0;32m    865\u001b[0m \u001b[38;5;28;01mdef\u001b[39;00m \u001b[38;5;21m__radd__\u001b[39m(\u001b[38;5;28mself\u001b[39m, right):\n\u001b[1;32m--> 866\u001b[0m     \u001b[38;5;28;01mreturn\u001b[39;00m \u001b[38;5;28;43mself\u001b[39;49m\u001b[38;5;241;43m.\u001b[39;49m\u001b[43m_apply_infix\u001b[49m\u001b[43m(\u001b[49m\u001b[43mright\u001b[49m\u001b[43m,\u001b[49m\u001b[43m \u001b[49m\u001b[43m_mgr\u001b[49m\u001b[43m(\u001b[49m\u001b[43m)\u001b[49m\u001b[38;5;241;43m.\u001b[39;49m\u001b[43mPlus\u001b[49m\u001b[43m,\u001b[49m\u001b[43m \u001b[49m\u001b[43m_mgr\u001b[49m\u001b[43m(\u001b[49m\u001b[43m)\u001b[49m\u001b[38;5;241;43m.\u001b[39;49m\u001b[43mBVAdd\u001b[49m\u001b[43m)\u001b[49m\n",
      "File \u001b[1;32m~\\anaconda3\\envs\\logica\\lib\\site-packages\\pysmt\\decorators.py:107\u001b[0m, in \u001b[0;36massert_infix_enabled.<locals>.assert_infix_enabled_wrap\u001b[1;34m(*args, **kwargs)\u001b[0m\n\u001b[0;32m    105\u001b[0m \u001b[38;5;28;01mif\u001b[39;00m \u001b[38;5;129;01mnot\u001b[39;00m get_env()\u001b[38;5;241m.\u001b[39menable_infix_notation:\n\u001b[0;32m    106\u001b[0m     \u001b[38;5;28;01mraise\u001b[39;00m PysmtModeError(INFIX_ERROR_MSG)\n\u001b[1;32m--> 107\u001b[0m \u001b[38;5;28;01mreturn\u001b[39;00m f(\u001b[38;5;241m*\u001b[39margs, \u001b[38;5;241m*\u001b[39m\u001b[38;5;241m*\u001b[39mkwargs)\n",
      "File \u001b[1;32m~\\anaconda3\\envs\\logica\\lib\\site-packages\\pysmt\\fnode.py:703\u001b[0m, in \u001b[0;36mFNode._apply_infix\u001b[1;34m(self, right, function, bv_function)\u001b[0m\n\u001b[0;32m    701\u001b[0m \u001b[38;5;28;01mif\u001b[39;00m bv_function \u001b[38;5;129;01mis\u001b[39;00m \u001b[38;5;28;01mNone\u001b[39;00m:\n\u001b[0;32m    702\u001b[0m     bv_function \u001b[38;5;241m=\u001b[39m function\n\u001b[1;32m--> 703\u001b[0m right \u001b[38;5;241m=\u001b[39m \u001b[38;5;28;43mself\u001b[39;49m\u001b[38;5;241;43m.\u001b[39;49m\u001b[43m_infix_prepare_arg\u001b[49m\u001b[43m(\u001b[49m\u001b[43mright\u001b[49m\u001b[43m,\u001b[49m\u001b[43m \u001b[49m\u001b[38;5;28;43mself\u001b[39;49m\u001b[38;5;241;43m.\u001b[39;49m\u001b[43mget_type\u001b[49m\u001b[43m(\u001b[49m\u001b[43m)\u001b[49m\u001b[43m)\u001b[49m\n\u001b[0;32m    704\u001b[0m \u001b[38;5;28;01mif\u001b[39;00m \u001b[38;5;28mself\u001b[39m\u001b[38;5;241m.\u001b[39mget_type()\u001b[38;5;241m.\u001b[39mis_bv_type():\n\u001b[0;32m    705\u001b[0m     \u001b[38;5;28;01mreturn\u001b[39;00m bv_function(\u001b[38;5;28mself\u001b[39m, right)\n",
      "File \u001b[1;32m~\\anaconda3\\envs\\logica\\lib\\site-packages\\pysmt\\decorators.py:107\u001b[0m, in \u001b[0;36massert_infix_enabled.<locals>.assert_infix_enabled_wrap\u001b[1;34m(*args, **kwargs)\u001b[0m\n\u001b[0;32m    105\u001b[0m \u001b[38;5;28;01mif\u001b[39;00m \u001b[38;5;129;01mnot\u001b[39;00m get_env()\u001b[38;5;241m.\u001b[39menable_infix_notation:\n\u001b[0;32m    106\u001b[0m     \u001b[38;5;28;01mraise\u001b[39;00m PysmtModeError(INFIX_ERROR_MSG)\n\u001b[1;32m--> 107\u001b[0m \u001b[38;5;28;01mreturn\u001b[39;00m f(\u001b[38;5;241m*\u001b[39margs, \u001b[38;5;241m*\u001b[39m\u001b[38;5;241m*\u001b[39mkwargs)\n",
      "File \u001b[1;32m~\\anaconda3\\envs\\logica\\lib\\site-packages\\pysmt\\fnode.py:719\u001b[0m, in \u001b[0;36mFNode._infix_prepare_arg\u001b[1;34m(self, arg, expected_type)\u001b[0m\n\u001b[0;32m    717\u001b[0m \u001b[38;5;66;03m# Boolean, Integer and Arithmetic\u001b[39;00m\n\u001b[0;32m    718\u001b[0m \u001b[38;5;28;01melif\u001b[39;00m expected_type\u001b[38;5;241m.\u001b[39mis_bool_type():\n\u001b[1;32m--> 719\u001b[0m     \u001b[38;5;28;01mreturn\u001b[39;00m \u001b[43mmgr\u001b[49m\u001b[38;5;241;43m.\u001b[39;49m\u001b[43mBool\u001b[49m\u001b[43m(\u001b[49m\u001b[43marg\u001b[49m\u001b[43m)\u001b[49m\n\u001b[0;32m    720\u001b[0m \u001b[38;5;28;01melif\u001b[39;00m expected_type\u001b[38;5;241m.\u001b[39mis_int_type():\n\u001b[0;32m    721\u001b[0m     \u001b[38;5;28;01mreturn\u001b[39;00m mgr\u001b[38;5;241m.\u001b[39mInt(arg)\n",
      "File \u001b[1;32m~\\anaconda3\\envs\\logica\\lib\\site-packages\\pysmt\\formula.py:405\u001b[0m, in \u001b[0;36mFormulaManager.Bool\u001b[1;34m(self, value)\u001b[0m\n\u001b[0;32m    403\u001b[0m \u001b[38;5;28;01mdef\u001b[39;00m \u001b[38;5;21mBool\u001b[39m(\u001b[38;5;28mself\u001b[39m, value):\n\u001b[0;32m    404\u001b[0m     \u001b[38;5;28;01mif\u001b[39;00m \u001b[38;5;28mtype\u001b[39m(value) \u001b[38;5;241m!=\u001b[39m \u001b[38;5;28mbool\u001b[39m:\n\u001b[1;32m--> 405\u001b[0m         \u001b[38;5;28;01mraise\u001b[39;00m PysmtTypeError(\u001b[38;5;124m\"\u001b[39m\u001b[38;5;124mExpecting bool, got \u001b[39m\u001b[38;5;132;01m%s\u001b[39;00m\u001b[38;5;124m\"\u001b[39m \u001b[38;5;241m%\u001b[39m \u001b[38;5;28mtype\u001b[39m(value))\n\u001b[0;32m    407\u001b[0m     \u001b[38;5;28;01mif\u001b[39;00m value:\n\u001b[0;32m    408\u001b[0m         \u001b[38;5;28;01mreturn\u001b[39;00m \u001b[38;5;28mself\u001b[39m\u001b[38;5;241m.\u001b[39mtrue_formula\n",
      "\u001b[1;31mPysmtTypeError\u001b[0m: Expecting bool, got <class 'int'>"
     ]
    }
   ],
   "source": [
    "from pysmt.shortcuts import Symbol, And, Or, Not, Equals, Implies, to_smtlib, Solver, Ite, TRUE, FALSE\n",
    "from pysmt.typing import BOOL\n",
    "\n",
    "# Tamanho do grid\n",
    "n = grid_N[0]\n",
    "m = grid_N[1]\n",
    "\n",
    "grid = np.array([[Symbol(f'cell_{i}_{j}', BOOL) for j in range(m)] for i in range(n)])\n",
    "\n",
    "# Crie um solver SMT\n",
    "solver = Solver(name=\"z3\")\n",
    "\n",
    "# Defina as regras do Jogo da Vida\n",
    "rules = []\n",
    "for i in range(n):\n",
    "    for j in range(m):\n",
    "        neighbors = np.array([])\n",
    "        for x in [-1, 0, 1]:\n",
    "            for y in [-1, 0, 1]:\n",
    "                if x == 0 and y == 0:\n",
    "                    continue\n",
    "                ni, nj = i + x, j + y\n",
    "                if 0 <= ni < n and 0 <= nj < m:\n",
    "                    neighbors = np.append(neighbors, grid[ni][nj])\n",
    "        \n",
    "        #for neighbor in neighbors:\n",
    "            #print(neighbor.is_true())\n",
    "        alive_neighbors = sum(neighbors)\n",
    "        current_cell = grid[i][j]\n",
    "        rule = Or(And(current_cell, Equals(alive_neighbors, 2)),\n",
    "                  And(current_cell, Equals(alive_neighbors, 3)),\n",
    "                  And(Not(current_cell), Equals(alive_neighbors, 3)))\n",
    "        rules.append(rule)\n",
    "\n",
    "# Impor a regra global\n",
    "global_rule = And(rules)\n",
    "\n",
    "# Adicione a regra ao solver\n",
    "solver.add_assertion(global_rule)\n",
    "\n",
    "# Resolva o problema\n",
    "if solver.solve():\n",
    "    model = solver.get_model()\n",
    "    for i in range(n):\n",
    "        for j in range(m):\n",
    "            cell_value = model.get_py_value(grid[i][j])\n",
    "            print(f'cell_{i}_{j}: {cell_value}')\n",
    "else:\n",
    "    print(\"Nenhuma solução encontrada.\")"
   ]
  },
  {
   "cell_type": "code",
   "execution_count": null,
   "id": "5f3f30a6",
   "metadata": {},
   "outputs": [],
   "source": []
  }
 ],
 "metadata": {
  "kernelspec": {
   "display_name": "Python 3 (ipykernel)",
   "language": "python",
   "name": "python3"
  },
  "language_info": {
   "codemirror_mode": {
    "name": "ipython",
    "version": 3
   },
   "file_extension": ".py",
   "mimetype": "text/x-python",
   "name": "python",
   "nbconvert_exporter": "python",
   "pygments_lexer": "ipython3",
   "version": "3.10.13"
  }
 },
 "nbformat": 4,
 "nbformat_minor": 5
}

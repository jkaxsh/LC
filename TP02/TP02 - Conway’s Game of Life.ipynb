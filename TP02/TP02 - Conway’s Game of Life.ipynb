{
 "cells": [
  {
   "cell_type": "markdown",
   "id": "c728ec64",
   "metadata": {},
   "source": [
    "# Trabalho 2 - Conway’s Game of Life"
   ]
  },
  {
   "cell_type": "markdown",
   "id": "91f8e25c",
   "metadata": {},
   "source": [
    "Paulo Jorge Fernandes Freitas - A100053 & Pedro Manuel Pereira dos Santos - A100110"
   ]
  },
  {
   "cell_type": "markdown",
   "id": "460614e4",
   "metadata": {},
   "source": [
    "2. O Conway’s Game of Life é um exemplo conhecido de um autómato celular . Aqui vamos modificar as regras do autómato de forma a usar um espaço de estados finito\n",
    "    1. O espaço de estados é finito definido por uma grelha de células booleanas (morta=0/viva=1) de dimensão $\\,N\\times N\\,$ (com $N>3$) identificadas por índices $\\,(i,j)\\in \\{1..N\\}$.  Estas $\\;N^2\\;$ células são aqui referidas como “normais”. \n",
    "    2. No estado inicial todas as células normais estão mortas excepto  um quadrado $\\,3\\times 3\\,$, designado por “centro”, aleatoriamente posicionado formado apenas por células vivas.\n",
    "    3. Adicionalmente existem $\\,2\\,N+1\\,$ “células da borda” que correspondem a um dos índices, $i$ ou $j$, ser zero. As células da borda têm valores constantes que, no estado inicial, são gerados aleatoriamente com uma probabilidade $\\,\\rho\\,$ de estarem vivas.\n",
    "    4. As células normais o autómato modificam o estado de acordo com a regra “B3/S23”: i.e. a célula nasce (passa de $0$ a $1$) se tem exatamente 3 vizinhos vivos e sobrevive (mantém-se viva) se o número de vizinhos vivos é 2 ou 3, caso contrário morre ou continua morta. \n",
    "    \n",
    "**Nota:** A célula $\\;(i_0,j_0)\\;$ e $\\,(i_1,j_1)\\,$ são vizinhas sse $\\;(i_0-i_1=\\pm 1) \\,\\lor\\, (j_0-j_1 = \\pm 1)$"
   ]
  },
  {
   "cell_type": "markdown",
   "id": "82f37d73",
   "metadata": {},
   "source": [
    "## Análise do problema\n",
    "\n",
    "A. Construir uma máquina de estados finita que represente este autómato;  \n",
    "B. Verificar se se conseguem provar as seguintes propriedades:\n",
    "1. Todos os estados acessíveis contém pelo menos uma célula.\n",
    "2. Toda a célula normal está viva pelo menos uma vez em algum estado acessível."
   ]
  },
  {
   "cell_type": "markdown",
   "id": "c4430265",
   "metadata": {},
   "source": [
    "## Autómato em pySMT\n",
    "\n",
    "Começamos por importar a biblioteca:\n",
    "1. pysmt.shortcuts e pysmt.typing para as operações em pySMT\n",
    "2. random para gerar aleatoriedades\n",
    "3. matplotlib.pyplot para dar print da matriz"
   ]
  },
  {
   "cell_type": "code",
   "execution_count": 1,
   "id": "0938eb1e",
   "metadata": {},
   "outputs": [],
   "source": [
    "import random\n",
    "import matplotlib.pyplot as plt\n",
    "from pysmt.shortcuts import Symbol, And, Solver, Equals, Iff, Not, TRUE, FALSE, Or\n",
    "from pysmt.typing import BOOL"
   ]
  },
  {
   "cell_type": "markdown",
   "id": "dd97c794",
   "metadata": {},
   "source": [
    "Tamanho da matriz pré definida"
   ]
  },
  {
   "cell_type": "code",
   "execution_count": 2,
   "id": "04e34ab8",
   "metadata": {},
   "outputs": [],
   "source": [
    "grid_N = (10,10)"
   ]
  },
  {
   "cell_type": "markdown",
   "id": "27f2804a",
   "metadata": {},
   "source": [
    "Transições a realizar"
   ]
  },
  {
   "cell_type": "code",
   "execution_count": 3,
   "id": "4e7e0481",
   "metadata": {},
   "outputs": [],
   "source": [
    "days = 10"
   ]
  },
  {
   "cell_type": "markdown",
   "id": "d5390225",
   "metadata": {},
   "source": [
    "Impressão dos resultados, passo a passo (True para imprimir cada iteração, False para a primeira e última)"
   ]
  },
  {
   "cell_type": "code",
   "execution_count": 4,
   "id": "5426a4da",
   "metadata": {},
   "outputs": [],
   "source": [
    "print_all = True"
   ]
  },
  {
   "cell_type": "markdown",
   "id": "ca55d27d",
   "metadata": {},
   "source": [
    "## Condições\n",
    "\n",
    "Condiçao da alinea b), geração o x,y de um quadrado 3x3 aleatoriamente (tirando centros como (0,0))."
   ]
  },
  {
   "cell_type": "code",
   "execution_count": 5,
   "id": "a1e8cc32",
   "metadata": {},
   "outputs": [],
   "source": [
    "x = random.randint(2,grid_N[0]-2)\n",
    "y = random.randint(2,grid_N[1]-2)"
   ]
  },
  {
   "cell_type": "markdown",
   "id": "948d5a22",
   "metadata": {},
   "source": [
    "Condiçao da alinea c), geração aleatoria das listas de celulas vivas nas laterais"
   ]
  },
  {
   "cell_type": "code",
   "execution_count": 6,
   "id": "eab22cc7",
   "metadata": {
    "scrolled": false
   },
   "outputs": [],
   "source": [
    "sample_i = random.sample(range(0,grid_N[0]),random.randint(1,grid_N[0]-1))\n",
    "sample_j = random.sample(range(0,grid_N[1]),random.randint(1,grid_N[1]-1))"
   ]
  },
  {
   "cell_type": "markdown",
   "id": "47fd3e22",
   "metadata": {},
   "source": [
    "### Criação do grid\n",
    "\n",
    "É criado as cordenadas todas em todos os estados em BOOL"
   ]
  },
  {
   "cell_type": "code",
   "execution_count": 7,
   "id": "e8d5f685",
   "metadata": {},
   "outputs": [],
   "source": [
    "def declare(grid_N, k):\n",
    "   \n",
    "    grid = ([[Symbol(f't{k};cell_{i}_{j}', BOOL) for i in range(grid_N[0])] for j in range(grid_N[1])])\n",
    "    return grid"
   ]
  },
  {
   "cell_type": "markdown",
   "id": "b0edb8df",
   "metadata": {},
   "source": [
    "### Primeira iteração do grid\n",
    "\n",
    "Usando as condições iniciais obtemos as equivalencias a True e o resto equivale a False"
   ]
  },
  {
   "cell_type": "code",
   "execution_count": 8,
   "id": "7ce36c85",
   "metadata": {},
   "outputs": [],
   "source": [
    "def init(state, x, y, sample_i, sample_j):  \n",
    "    \n",
    "    #quadrado\n",
    "    trues = []\n",
    "    for i in range(-1, 2):\n",
    "        for j in range(-1, 2):\n",
    "            trues.append(state[y + i][x + j])\n",
    "    \n",
    "    #laterais\n",
    "    for i in sample_i:\n",
    "        trues.append(state[0][i])\n",
    "\n",
    "    for j in sample_j:\n",
    "        trues.append(state[j][0])\n",
    "    \n",
    "    #por o resto a false\n",
    "    ret = []\n",
    "    for x in state:\n",
    "        for y in x:\n",
    "            if y not in trues:\n",
    "                ret.append(y.Iff(FALSE()))\n",
    "            else:\n",
    "                ret.append(y.Iff(TRUE()))\n",
    "    return ret"
   ]
  },
  {
   "cell_type": "markdown",
   "id": "05737adf",
   "metadata": {},
   "source": [
    "### Função que calcula a próxima transição"
   ]
  },
  {
   "cell_type": "code",
   "execution_count": 9,
   "id": "988e00d6",
   "metadata": {},
   "outputs": [],
   "source": [
    "def trans(prev_values, state):\n",
    "    ret = []\n",
    "    for y in range(len(state)):\n",
    "        for x in range(len(state[0])):\n",
    "            cell = state[y][x]\n",
    "            vizinhos = []\n",
    "            #obtem os vizinhos\n",
    "            for r1 in range(-1,2):\n",
    "                for r2 in range(-1,2):\n",
    "                    viz_x = (x + r1)\n",
    "                    viz_y = (y + r2)\n",
    "                    if (r1 == 0 and r2 == 0) or 0 > viz_x or viz_x > len(state[0])-1 or 0 > viz_y or viz_y > len(state)-1:\n",
    "                        continue\n",
    "                    vizinhos.append(prev_values[viz_y][viz_x])\n",
    "            alive = 0\n",
    "            #conta os vizinhos vivos\n",
    "            for v in vizinhos:\n",
    "                if v.is_true():\n",
    "                    alive += 1\n",
    "            #regras do game of life\n",
    "            if prev_values[y][x].is_true():\n",
    "                if 2 == alive or alive == 3:\n",
    "                    ret.append(cell.Iff(TRUE()))\n",
    "                else:\n",
    "                    ret.append(cell.Iff(FALSE()))\n",
    "            else:\n",
    "                #se tiver 3 vizinhos, a celula é viva\n",
    "                if alive == 3:\n",
    "                    ret.append(cell.Iff(TRUE()))\n",
    "                else:\n",
    "                    ret.append(cell.Iff(FALSE()))\n",
    "    return ret"
   ]
  },
  {
   "cell_type": "markdown",
   "id": "b96acd91",
   "metadata": {},
   "source": [
    "### Função que obtem todos os valores dado uma transição"
   ]
  },
  {
   "cell_type": "code",
   "execution_count": 10,
   "id": "41e13a4c",
   "metadata": {},
   "outputs": [],
   "source": [
    "def get_values(states, solver):\n",
    "    if solver.solve():\n",
    "        return [[solver.get_value(states[y][x]) for x in range(len(states[0]))] for y in range(len(states))]"
   ]
  },
  {
   "cell_type": "markdown",
   "id": "57ae61ae",
   "metadata": {},
   "source": [
    "### Função que imprime a matriz a partir dos valores de get_values()"
   ]
  },
  {
   "cell_type": "code",
   "execution_count": 11,
   "id": "6c21ed5c",
   "metadata": {},
   "outputs": [],
   "source": [
    "def print_state(values):\n",
    "    to_print = []\n",
    "    for i in values:\n",
    "        row = []\n",
    "        for j in i:\n",
    "            if j.is_true():\n",
    "                row.append(True)\n",
    "            else:\n",
    "                row.append(False)\n",
    "        to_print.append(row)\n",
    "    plt.pcolormesh(to_print)\n",
    "    plt.axis('on')\n",
    "    plt.show()"
   ]
  },
  {
   "cell_type": "markdown",
   "id": "21638d5f",
   "metadata": {},
   "source": [
    "### Função que começa o Solver, faz todas as iterações e tenta resolver B.1. e B.2."
   ]
  },
  {
   "cell_type": "code",
   "execution_count": 12,
   "id": "5f3f30a6",
   "metadata": {
    "scrolled": false
   },
   "outputs": [
    {
     "data": {
      "image/png": "[encoded data removed]",
      "text/plain": [
       "<Figure size 640x480 with 1 Axes>"
      ]
     },
     "metadata": {},
     "output_type": "display_data"
    },
    {
     "data": {
      "image/png": "[encoded data removed]",
      "text/plain": [
       "<Figure size 640x480 with 1 Axes>"
      ]
     },
     "metadata": {},
     "output_type": "display_data"
    },
    {
     "data": {
      "image/png": "[encoded data removed]",
      "text/plain": [
       "<Figure size 640x480 with 1 Axes>"
      ]
     },
     "metadata": {},
     "output_type": "display_data"
    },
    {
     "data": {
      "image/png": "[encoded data removed]",
      "text/plain": [
       "<Figure size 640x480 with 1 Axes>"
      ]
     },
     "metadata": {},
     "output_type": "display_data"
    },
    {
     "data": {
      "image/png": "[encoded data removed]",
      "text/plain": [
       "<Figure size 640x480 with 1 Axes>"
      ]
     },
     "metadata": {},
     "output_type": "display_data"
    },
    {
     "data": {
      "image/png": "[encoded data removed]",
      "text/plain": [
       "<Figure size 640x480 with 1 Axes>"
      ]
     },
     "metadata": {},
     "output_type": "display_data"
    },
    {
     "data": {
      "image/png": "[encoded data removed]",
      "text/plain": [
       "<Figure size 640x480 with 1 Axes>"
      ]
     },
     "metadata": {},
     "output_type": "display_data"
    },
    {
     "data": {
      "image/png": "[encoded data removed]",
      "text/plain": [
       "<Figure size 640x480 with 1 Axes>"
      ]
     },
     "metadata": {},
     "output_type": "display_data"
    },
    {
     "data": {
      "image/png": "[encoded data removed]",
      "text/plain": [
       "<Figure size 640x480 with 1 Axes>"
      ]
     },
     "metadata": {},
     "output_type": "display_data"
    },
    {
     "name": "stdout",
     "output_type": "stream",
     "text": [
      "Ultima transição:\n"
     ]
    },
    {
     "data": {
      "image/png": "[encoded data removed]",
      "text/plain": [
       "<Figure size 640x480 with 1 Axes>"
      ]
     },
     "metadata": {},
     "output_type": "display_data"
    },
    {
     "name": "stdout",
     "output_type": "stream",
     "text": [
      "Todos os estados acessíveis contém pelo menos uma célula.\n",
      "Não é possível resolver o B2 -> Existe pelo menos uma célula que se mantem morta em todas as transições\n"
     ]
    }
   ],
   "source": [
    "def euclides(declare, init, grid_N, t, print_all, x, y, sample_i, sample_j):\n",
    "    with Solver(name=\"z3\") as solver:\n",
    "        #criação de todas as celulas em todos os estados\n",
    "        states = [declare(grid_N, k) for k in range(t)]\n",
    "\n",
    "        #atribuição das condições a transição inicial\n",
    "        tr = init(states[0], x, y, sample_i, sample_j)\n",
    "        \n",
    "        formula = []\n",
    "        formula.append(tr)\n",
    "        for i in tr:\n",
    "            solver.add_assertion(i)\n",
    "            \n",
    "        #calculo de todas as transiçoes\n",
    "        for k in range(t-1):\n",
    "            values = get_values(states[k], solver)\n",
    "            if print_all or k == 0:\n",
    "                print_state(values)\n",
    "            curr = trans(values, states[k+1])\n",
    "            formula.append(curr)\n",
    "            for i in curr:\n",
    "                solver.add_assertion(i)\n",
    "        \n",
    "        #print da ultima transiçao\n",
    "        print(\"Ultima transição:\")\n",
    "        values = get_values(states[t-1], solver)\n",
    "        print_state(values)\n",
    "        \n",
    "        #B1\n",
    "        #em cada estado tem que pelo menos uma celula morta ou viva\n",
    "        for t in states:\n",
    "            cells = [j.Iff(TRUE()) for i in t for j in i] + [j.Iff(FALSE()) for i in t for j in i]\n",
    "            solver.add_assertion(Or(*cells))\n",
    "        if solver.solve():\n",
    "            print(\"Todos os estados acessíveis contém pelo menos uma célula.\")\n",
    "        else:\n",
    "            print(\"Não e possível resolver o B1 -> Existe pelo menos um estado sem uma célula\")\n",
    "            \n",
    "        #como B1 é sempre verdadeira podemos provar B2 sem remover as assertions\n",
    "        #B2\n",
    "        #divisão de cada coordenada por estado\n",
    "        dict = {}\n",
    "        for t in states:\n",
    "            for y in range(len(t)):\n",
    "                for x in range(len(t[0])):\n",
    "                    if f\"({x},{y})\" not in dict:\n",
    "                        dict[f\"({x},{y})\"] = [t[y][x].Iff(TRUE())]\n",
    "                    else:\n",
    "                        dict[f\"({x},{y})\"] += [t[y][x].Iff(TRUE())]      \n",
    "        #adição lógica em cada coordenada em todos os estado\n",
    "        for v in dict.values():\n",
    "            solver.add_assertion(Or(*v))\n",
    "        if solver.solve():\n",
    "            print(\"Todas a célula normal está viva pelo menos uma vez em algum estado acessível.\")\n",
    "        else:\n",
    "            print(\"Não é possível resolver o B2 -> Existe pelo menos uma célula que se mantem morta em todas as transições\")\n",
    "            \n",
    "euclides(declare, init, grid_N, days, print_all, x, y, sample_i, sample_j)"
   ]
  },
  {
   "cell_type": "code",
   "execution_count": null,
   "id": "b50f588a",
   "metadata": {},
   "outputs": [],
   "source": []
  }
 ],
 "metadata": {
  "kernelspec": {
   "display_name": "Python 3 (ipykernel)",
   "language": "python",
   "name": "python3"
  },
  "language_info": {
   "codemirror_mode": {
    "name": "ipython",
    "version": 3
   },
   "file_extension": ".py",
   "mimetype": "text/x-python",
   "name": "python",
   "nbconvert_exporter": "python",
   "pygments_lexer": "ipython3",
   "version": "3.10.13"
  }
 },
 "nbformat": 4,
 "nbformat_minor": 5
}

{
 "cells": [
  {
   "cell_type": "markdown",
   "metadata": {
    "id": "hEBGYSn2lfLn"
   },
   "source": [
    "#TP4"
   ]
  },
  {
   "cell_type": "markdown",
   "metadata": {
    "id": "XD7z1yEFljof"
   },
   "source": [
    "Paulo Freitas - A100053\n",
    "\n",
    "\n",
    "Pedro Santos - A100110"
   ]
  },
  {
   "cell_type": "markdown",
   "metadata": {
    "id": "ZdjYp3nYnxxc"
   },
   "source": [
    "### Enunciado"
   ]
  },
  {
   "cell_type": "markdown",
   "metadata": {
    "id": "wBDtar9dlbpu"
   },
   "source": [
    "No contexto do sistema de travagem ABS (“Anti-Lock Breaking System”), pretende-se construir um autómato híbrido que descreva o sistema e que  possa ser usado para verificar as suas propriedades dinâmicas.\n",
    "\n",
    "    \n",
    "  - A componente discreta do autómato contém os modos:  `Start`,  `Free`,  `Stopping`, `Blocked`, e `Stopped`.\n",
    "    - o modo `Start` inicia o funcionamento com os valores iniciais das velocidades\n",
    "    - no modo `Free`  não existe qualquer força de travagem;\n",
    "    - no modo `Stopping` aplica-se a força de travagem alta;\n",
    "    - no modo `Blocked` as rodas estão bloqueadas em relação ao corpo mas o veículo  move-se (i.e. derrapa) com pequeno atrito ao solo;\n",
    "    - no modo `Stopped` o veículo está imobilizado.\n",
    "  - A componente contínua  do autómato usa variáveis contínuas $$\\,V,v\\,$$ para descrever a  `velocidade do corpo`   e a `velocidade linear das rodas`  ambas em relação so solo.\n",
    "  - Assume-se que o sistema de travagem exerce uma força de atrito proporcional à diferença das duas velocidades.  A dinâmica contínua, as equações de fluxo, está descrita  abaixo.\n",
    "  - Os “switchs” são a componente de projeto deste trabalho; cabe ao aluno definir quais devem ser  de modo a que o sistema tenha um comportamento desejável: imobilize-se depressa e não “derrape” muito.\n",
    "  - É imprescindível evitar que o sistema tenha “trajetórias de Zenão”. Isto é, sequências  infinitas de transições  entre dois modos em intervalos de tempo  que tendem para zero mas nunca alcançam zero.\n",
    "\n",
    "Faça\n",
    "\n",
    "1. Defina um autómato híbrido que descreva a dinâmica do sistema segundo as notas abaixo indicadas e com os “switchs” por si escolhidos.\n",
    "2. A condição de segurança estabelece que o sistema não permaneça no modo `free`  ou no modo `blocked` mais do que $$\\,\\tau\\,$$ segundos.\n",
    "3. Defina um SFOTS que modele a discretização do autómato híbrido.\n",
    "4. Verifique nesse modelo\n",
    "    1. Que as condições de segurança são invariantes do sistema\n",
    "    2. Que o sistema atinge o estado `stopped` eventualmente.\n",
    "\n",
    "\n",
    "\n",
    "![](https://paper-attachments.dropboxusercontent.com/s_9896551CC5FAD2B2EB6E4EBC08522545FA66314D29FE6A5BE8E593259F8E8A37_1672830059198_ABS.png)\n",
    "\n",
    "![](https://paper-attachments.dropboxusercontent.com/s_C5426E33053EA04D1E3446B871CC8485C43045FF7CAAA1FC86A9B3A8E09058F9_1574702123197_Documento.png)\n",
    "\n",
    "\n",
    "\n",
    "  | Equações de Fluxo\n",
    "\n",
    "  1. Durante  a travagem não existe qualquer  força no sistema excepto as forças de atrito. Quando uma superfície se desloca em relação à outra, a força de atrito  é proporcional à força de compressão entre elas. <br>\n",
    "  \n",
    "  2. No contacto rodas/solo a força de compressão é dada pelo o peso $P$ que é constante e independente do modo. Tem-se $f = a\\, P$ sendo  $a$ a constante de atrito; o valor de $a$ depende do modo: é baixa em `Blocked` e alta nos restantes.<br>\n",
    "  \n",
    "  3. No contacto corpo/rodas,  a força de compressão é a força de travagem que aqui se assume como proporcional à diferença de velocidades<br><br>                                                                      $F =  c\\, (V-v)$<br>      A  constante de proporcionalidade $c$ depende do modo: é elevada no modo `Stopping` e baixa nos outros.<br><br>\n",
    "  \n",
    "  4. As  equações que traduzem a dinâmica  do sistema são, em todos os modo excepto `Blocked`,<br>                                                        $(\\dot{V} \\,=\\, -F)\\,\\land\\, (\\dot{v} \\,=\\, -a\\, P  + F)$   <br>e , no modo `Blocked`,  a dinâmica do sistema é  regida por:<br>                                                         $(V = v) \\;\\land\\; (\\,\\dot{v}\\,=\\, -a\\, P\\,)$<br>\n",
    "\n",
    "\n",
    "  5. Tanto no modo `Blocked`  como no modo `Free`  existe um “timer” que impede que o controlo aí permaneça mais do que $\\,\\tau\\,$segundos.  Os     $\\mathsf{switch}(V,v,t,V',v',t')\\,$  nesses modos devem forçar esta condição. <br>\n",
    "  \n",
    "\n",
    "  6. Todos os “switchs” devem ser construídos de  modo a impedir a existência de trajetórias de Zenão.<br>\n",
    "  \n",
    "\n",
    "  7. No instante inicial  o modo é  `Start` e  tem-se $\\,V = v\\,=\\,V_0$  . A velocidade $V_0$ é  “input” do problema.\n",
    "\n"
   ]
  },
  {
   "cell_type": "markdown",
   "metadata": {
    "id": "N1YGcooy1OK1"
   },
   "source": [
    "## ex uno"
   ]
  },
  {
   "cell_type": "markdown",
   "metadata": {
    "id": "S-vYry9J1OK1"
   },
   "source": [
    "![Image of Yaktocat](https://i.ibb.co/p0vKbsW/image-1.png)"
   ]
  },
  {
   "cell_type": "markdown",
   "metadata": {
    "id": "QJ2U-G89oiku"
   },
   "source": [
    "## Import das Bibliotecas\n",
    "\n",
    "Para este exercício serão usadas as bibliotecas do pysmt e os sover z3 e msat."
   ]
  },
  {
   "cell_type": "code",
   "execution_count": null,
   "metadata": {
    "id": "MHBM0FxBq_5k"
   },
   "outputs": [],
   "source": [
    "%%capture\n",
    "!yes | pip install pysmt\n",
    "!apt-get install libgmp3-dev\n",
    "!yes | pysmt-install --z3\n",
    "\n",
    "file = '/usr/local/lib/python3.10/dist-packages/pysmt/smtlib/parser/__init__.py'\n",
    "with open(file, 'r') as f:\n",
    "    code = f.read()\n",
    "    new_code = code.replace('USE_CYTHON = True', 'USE_CYTHON = False')\n",
    "\n",
    "with open(file, 'w') as f:\n",
    "  f.write(new_code)"
   ]
  },
  {
   "cell_type": "markdown",
   "metadata": {
    "id": "N290LfFGGSco"
   },
   "source": [
    "# Exercício 1.3"
   ]
  },
  {
   "cell_type": "code",
   "execution_count": 1,
   "metadata": {
    "id": "AGHj2DrpthyL",
    "scrolled": true
   },
   "outputs": [],
   "source": [
    "from pysmt.shortcuts import *\n",
    "from pysmt.typing import INT,BVType\n",
    "from pysmt.logics import QF_NIA, QF_BV\n",
    "import itertools\n",
    "import matplotlib.pyplot as plt"
   ]
  },
  {
   "cell_type": "code",
   "execution_count": 2,
   "metadata": {
    "id": "TQ-AB_YnKKoY"
   },
   "outputs": [],
   "source": [
    "START = 0\n",
    "FREE = 1\n",
    "STOPPING = 2\n",
    "BLOCKED = 3\n",
    "STOPPED = 4"
   ]
  },
  {
   "cell_type": "code",
   "execution_count": 3,
   "metadata": {
    "id": "GJAz5cteHYXn"
   },
   "outputs": [],
   "source": [
    "vdif = 0.1\n",
    "tmax = 0.1\n",
    "a = 0.01\n",
    "b = 0.5\n",
    "c_stopping = 10\n",
    "c = 0.5\n",
    "P = 1000\n",
    "velinicial = 20"
   ]
  },
  {
   "cell_type": "code",
   "execution_count": 4,
   "metadata": {
    "id": "jGemXHwlLw3o"
   },
   "outputs": [],
   "source": [
    "def declare(i):\n",
    "    s = {}\n",
    "\n",
    "    s['t']      = Symbol('t' + str(i), REAL)                # TEMPO\n",
    "    s['m']      = Symbol('m' + str(i), INT)                 # MODO\n",
    "    s['vcorpo'] = Symbol('vcorpo' + str(i), REAL)           # VELOCIDADE CARRO\n",
    "    s['vrodas'] = Symbol('vrodas' + str(i), REAL)           # VELOCIDADE RODAS\n",
    "    s['timer']  = Symbol('timer' + str(i), REAL)            # TIMER\n",
    "\n",
    "    return s"
   ]
  },
  {
   "cell_type": "code",
   "execution_count": 5,
   "metadata": {
    "id": "XC6GZgYINMF4"
   },
   "outputs": [],
   "source": [
    "def init(state):\n",
    "  T  = Equals(state['t'], Real(0))\n",
    "  V1 = Equals(state['vcorpo'], Real(velinicial))\n",
    "  V2 = Equals(state['vrodas'], Real(velinicial))\n",
    "  M  = Equals(state['m'], Int(START))\n",
    "  return And(T,V1,V2,M)\n"
   ]
  },
  {
   "cell_type": "code",
   "execution_count": 15,
   "metadata": {
    "id": "u288GpSdPFD6"
   },
   "outputs": [],
   "source": [
    "def trans(curr, prox):\n",
    "    v_final = And(Equals(prox['vcorpo'], prox['vrodas']),\n",
    "                  Equals(prox['vcorpo'], Real(0)),\n",
    "                  Equals(prox['timer'], Real(0)))\n",
    "\n",
    "  # untimed\n",
    "\n",
    "    start_free = And(\n",
    "        Equals(curr['m'], Int(START)),\n",
    "        Equals(prox['m'], Int(FREE)),\n",
    "        Equals(curr['t'], prox['t']),\n",
    "        Equals(curr['vcorpo'], prox['vcorpo']),\n",
    "        Equals(curr['vrodas'], prox['vrodas']),\n",
    "        Equals(prox['timer'], Real(0)),\n",
    "        Equals(curr['timer'], Real(0))\n",
    "    )\n",
    "    \n",
    "    free_stopping = And(\n",
    "        Equals(curr['m'], Int(FREE)),\n",
    "        Equals(prox['m'], Int(STOPPING)),\n",
    "        Equals(curr['t'], prox['t']),\n",
    "        Equals(curr['vcorpo'], prox['vcorpo']),\n",
    "        Equals(curr['vrodas'], prox['vrodas']),\n",
    "        GE(curr['timer'], Real(tmax)),\n",
    "        Equals(prox['timer'], Real(0))\n",
    "    )\n",
    "    \n",
    "    stopping_blocked = And(\n",
    "        Equals(curr['m'], Int(STOPPING)),\n",
    "        Equals(prox['m'], Int(BLOCKED)),\n",
    "        Equals(curr['t'], prox['t']),\n",
    "        Equals(curr['vcorpo'], prox['vcorpo']),\n",
    "        Equals(curr['vrodas'], prox['vrodas']),\n",
    "        LE(Minus(curr['vcorpo'], curr['vrodas']), Real(vdif)),\n",
    "        Equals(prox['timer'], Real(0))\n",
    "    )\n",
    "    \n",
    "    blocked_free = And(\n",
    "        Equals(curr['m'], Int(BLOCKED)),\n",
    "        Equals(prox['m'], Int(FREE)),\n",
    "        Equals(curr['t'], prox['t']),\n",
    "        Equals(curr['vcorpo'], prox['vcorpo']),\n",
    "        Equals(curr['vrodas'], prox['vrodas']),\n",
    "        GE(curr['timer'], Real(tmax)),\n",
    "        Equals(prox['timer'], Real(0))\n",
    "    )\n",
    "    \n",
    "    free_stopped = And(\n",
    "        Equals(curr['m'], Int(FREE)),\n",
    "        Equals(prox['m'], Int(STOPPED)),  \n",
    "        Equals(curr['t'], prox['t']),\n",
    "        LE(curr['vcorpo'], Real(vdif)),\n",
    "        LE(curr['vrodas'], Real(vdif)),\n",
    "        v_final\n",
    "    )\n",
    "    \n",
    "    stopping_stopped = And(\n",
    "        Equals(curr['m'], Int(STOPPING)),\n",
    "        Equals(prox['m'], Int(STOPPED)), \n",
    "        Equals(curr['t'], prox['t']),\n",
    "        LE(curr['vcorpo'], Real(vdif)),\n",
    "        LE(curr['vrodas'], Real(vdif)),\n",
    "        v_final\n",
    "    )\n",
    "    \n",
    "    blocked_stopped = And(\n",
    "        Equals(curr['m'], Int(BLOCKED)),\n",
    "        Equals(prox['m'], Int(STOPPED)),  \n",
    "        Equals(curr['t'], prox['t']),\n",
    "        LE(curr['vcorpo'], Real(vdif)),\n",
    "        LE(curr['vrodas'], Real(vdif)),\n",
    "        v_final\n",
    "    )\n",
    "\n",
    "    # timed\n",
    "    intervalo = 0.1\n",
    "\n",
    "    blocked_blocked = And(\n",
    "        Equals(curr['m'], Int(BLOCKED)),\n",
    "        Equals(prox['m'], Int(BLOCKED)),\n",
    "        LT(curr['t'], prox['t']),\n",
    "        Equals(Minus(prox['timer'], curr['timer']), Minus(prox['t'], curr['t'])),\n",
    "        LE(prox['timer'], Real(tmax)),\n",
    "        LE(curr['vcorpo'], Plus(curr['vrodas'], Real(vdif))),\n",
    "        LE(prox['vcorpo'], Plus(prox['vrodas'], Real(vdif))),\n",
    "        Equals(Minus(prox['vcorpo'], curr['vcorpo']), Times(Minus(Times(Real(-a), Real(P)), Real(b)), Real(intervalo))),\n",
    "        Equals(Minus(prox['t'], curr['t']), Real(intervalo)),\n",
    "        LE(curr['vrodas'], curr['vcorpo']),\n",
    "        LE(prox['vrodas'], prox['vcorpo']),\n",
    "        GE(prox['vcorpo'], Real(vdif)),\n",
    "        GE(prox['vrodas'], Real(vdif))\n",
    "    )\n",
    "\n",
    "    free_free = And(\n",
    "        Equals(curr['m'], Int(FREE)),\n",
    "        Equals(prox['m'], Int(FREE)),\n",
    "        LT(curr['t'], prox['t']),\n",
    "        Equals(Minus(prox['timer'], curr['timer']), Minus(prox['t'], curr['t'])),\n",
    "        LE(prox['timer'], Real(tmax)),\n",
    "        Equals(Minus(prox['vcorpo'], curr['vcorpo']), Times(Minus(Times(Real(-c), Minus(curr['vcorpo'], curr['vrodas'])), Real(-b)), Real(intervalo))),\n",
    "        Equals(Minus(prox['vrodas'], curr['vrodas']), Times(Plus(Times(Real(-a), Real(P)), Times(Real(c), Minus(curr['vcorpo'], curr['vrodas']))), Real(intervalo))),\n",
    "        Equals(Minus(prox['t'], curr['t']), Real(intervalo)),\n",
    "        LE(curr['vrodas'], curr['vcorpo']),\n",
    "        LE(prox['vrodas'], prox['vcorpo']),\n",
    "        GE(prox['vcorpo'], Real(vdif)),\n",
    "        GE(prox['vrodas'], Real(vdif))\n",
    "    )\n",
    "\n",
    "                                                               \n",
    "    \n",
    "    stopping_stopping = And(\n",
    "        Equals(curr['m'], Int(STOPPING)),\n",
    "        Equals(prox['m'], Int(STOPPING)),\n",
    "        Equals(curr['timer'], Real(0)),\n",
    "        Equals(prox['timer'], Real(0)),\n",
    "        Equals(Minus(prox['vcorpo'], curr['vcorpo']), Times(Minus(Times(Real(-c_stopping), Minus(curr['vcorpo'], curr['vrodas'])), Real(-b)), Real(intervalo))),\n",
    "        Equals(Minus(prox['vrodas'], curr['vrodas']), Times(Plus(Times(Real(-a), Real(P)), Times(Real(c_stopping), Minus(curr['vcorpo'], curr['vrodas']))), Real(intervalo))), #linha que da erro\n",
    "        Equals(Minus(prox['t'], curr['t']), Real(intervalo)),\n",
    "        GT(Minus(curr['vcorpo'], curr['vrodas']), Real(vdif)),\n",
    "        LE(curr['vrodas'], curr['vcorpo']),\n",
    "        LE(prox['vrodas'], prox['vcorpo'])\n",
    "    )\n",
    "    \n",
    "    stopped_stopped = And(\n",
    "        Equals(curr['m'], Int(STOPPED)),\n",
    "        Equals(prox['m'], Int(STOPPED)),\n",
    "        Equals(prox['t'], curr['t']),\n",
    "        Equals(prox['vrodas'], curr['vrodas']),\n",
    "        Equals(prox['vcorpo'], curr['vcorpo']),\n",
    "        Equals(curr['timer'], Real(0)),\n",
    "        Equals(prox['timer'], Real(0))\n",
    "    )\n",
    "        \n",
    "    return Or(start_free, free_stopping, stopping_blocked, blocked_free, free_stopped, stopping_stopped, blocked_stopped, free_free, stopping_stopping, blocked_blocked, stopped_stopped)"
   ]
  },
  {
   "cell_type": "code",
   "execution_count": 17,
   "metadata": {
    "scrolled": true
   },
   "outputs": [
    {
     "name": "stdout",
     "output_type": "stream",
     "text": [
      "Solving\n",
      "t = 0.0 \n",
      "m = START \n",
      "vcorpo = 20.0 \n",
      "vrodas = 20.0 \n",
      "timer = 0.0\n",
      "\n",
      "t = 0.0 \n",
      "m = FREE \n",
      "vcorpo = 20.0 \n",
      "vrodas = 20.0 \n",
      "timer = 0.0\n",
      "\n",
      "t = 0.1 \n",
      "m = FREE \n",
      "vcorpo = 20.1 \n",
      "vrodas = 19.0 \n",
      "timer = 0.1\n",
      "\n",
      "t = 0.1 \n",
      "m = STOPPING \n",
      "vcorpo = 20.1 \n",
      "vrodas = 19.0 \n",
      "timer = 0.0\n",
      "\n",
      "t = 0.2 \n",
      "m = STOPPING \n",
      "vcorpo = 19.1 \n",
      "vrodas = 18.9 \n",
      "timer = 0.0\n",
      "\n",
      "t = 0.2 \n",
      "m = BLOCKED \n",
      "vcorpo = 19.1 \n",
      "vrodas = 18.9 \n",
      "timer = 0.0\n",
      "\n",
      "t = 0.3 \n",
      "m = BLOCKED \n",
      "vcorpo = 18.0 \n",
      "vrodas = 18.0 \n",
      "timer = 0.1\n",
      "\n",
      "t = 0.3 \n",
      "m = FREE \n",
      "vcorpo = 18.0 \n",
      "vrodas = 18.0 \n",
      "timer = 0.0\n",
      "\n",
      "t = 0.4 \n",
      "m = FREE \n",
      "vcorpo = 18.1 \n",
      "vrodas = 17.0 \n",
      "timer = 0.1\n",
      "\n",
      "t = 0.4 \n",
      "m = STOPPING \n",
      "vcorpo = 18.1 \n",
      "vrodas = 17.0 \n",
      "timer = 0.0\n",
      "\n",
      "w\n"
     ]
    }
   ],
   "source": [
    "def gera_traco(declare, init, trans, k):\n",
    "    with Solver(name=\"z3\") as solver:\n",
    "        states = [declare(i) for i in range(k)]\n",
    "        solver.add_assertion(init(states[0]))\n",
    "        for i in range(k-1):\n",
    "            solver.add_assertion(trans(states[i], states[i+1]))\n",
    "        print('Solving')\n",
    "        modes = ['START', 'FREE', 'STOPPING', 'BLOCKED', 'STOPPED']\n",
    "        if solver.solve():\n",
    "            for i in range(k):\n",
    "                m = solver.get_value(states[i][\"m\"]).constant_value()\n",
    "                print('t =', round(float(solver.get_value(states[i][\"t\"]).constant_value()),1),\n",
    "                     '\\nm =', modes[m],\n",
    "                      '\\nvcorpo =', round(float(solver.get_value(states[i][\"vcorpo\"]).constant_value()),1),\n",
    "                      '\\nvrodas =', round(float(solver.get_value(states[i][\"vrodas\"]).constant_value()),1),\n",
    "                      '\\ntimer =', float(solver.get_value(states[i][\"timer\"]).constant_value())\n",
    "                     )\n",
    "                print()\n",
    "            print('w')\n",
    "        else:\n",
    "            print('L')\n",
    "            \n",
    "gera_traco(declare, init, trans, 10)"
   ]
  },
  {
   "cell_type": "markdown",
   "metadata": {
    "id": "J_ZDxZuJ1rLI"
   },
   "source": [
    "## Exercício 1.4"
   ]
  },
  {
   "cell_type": "code",
   "execution_count": null,
   "metadata": {
    "id": "R-oTSHqV1OK4"
   },
   "outputs": [],
   "source": [
    "def invariante(curr,prox):\n",
    "  i1 = Implies(prox['t'] > curr['t'], prox['vcorpo'] < curr['vcorpo'])  # PERDE VEL AO LONGO DO TEMPO\n",
    "  i2 = Implies(prox['t'] > curr['t'], prox['vrodas'] < curr['vrodas'])\n",
    "  i3 = curr['vcorpo'] >= curr['vrodas']\n",
    "  i4 = curr['timer']<= tmax\n",
    "\n",
    "  return And(i1,i2,i3,i4)"
   ]
  },
  {
   "cell_type": "code",
   "execution_count": null,
   "metadata": {
    "colab": {
     "base_uri": "https://localhost:8080/",
     "height": 35
    },
    "id": "WOcC9k6U5Fpu",
    "outputId": "d5549d67-9f24-4c8c-97bd-5bc1bbc3c52b"
   },
   "outputs": [
    {
     "data": {
      "application/vnd.google.colaboratory.intrinsic+json": {
       "type": "string"
      },
      "text/plain": [
       "'A propriedade é válida para traços de tamanho até 70'"
      ]
     },
     "execution_count": 12,
     "metadata": {},
     "output_type": "execute_result"
    }
   ],
   "source": [
    "def bmc_always(declare,init,trans,inv,K):\n",
    "  for k in range(2,K+1):\n",
    "    s = Solver()\n",
    "    traco = [declare(i) for i in range(k)]\n",
    "    s.add(init(traco[0]))\n",
    "    for i in range(k-1):\n",
    "      s.add(trans(traco[i], traco[i+1]))\n",
    "\n",
    "    s.add(Not(inv(traco[k-2], traco[k-1])))\n",
    "\n",
    "    if s.check() == sat:\n",
    "      m = s.model()\n",
    "      for i in range(k):\n",
    "        print(f\"{k}Estado:\", i)\n",
    "        for v in traco[i]:\n",
    "          res = m[traco[i][v]]\n",
    "          if res.sort() != RealSort():\n",
    "            print(v, '=', res)\n",
    "          else:\n",
    "            print(v, '=', float(res.numerator_as_long())/float(res.denominator_as_long()))\n",
    "      return\n",
    "  return \"A propriedade é válida para traços de tamanho até \" + str(K)\n",
    "\n",
    "bmc_always(declare,init,trans,invariante, 70)"
   ]
  },
  {
   "cell_type": "markdown",
   "metadata": {
    "id": "bVX6o2CMF1sY"
   },
   "source": [
    "Queremos mostrar que o programa atingue, em algum momento o modo \"STOPPED\". Pela defenição do automato e, baseado no enunciado, chegamos rápidamente à conclusão que, o resultado é valido se no ultimo estado, o modo for \"STOPPED\", pois este modo é o estado terminal do automato.\n",
    "\n",
    "Assim, basta provar que a ultima iteração de estados resulta em modo \"STOPPED\"."
   ]
  },
  {
   "cell_type": "code",
   "execution_count": null,
   "metadata": {
    "colab": {
     "base_uri": "https://localhost:8080/"
    },
    "id": "vvB0UjASBl2C",
    "outputId": "84007beb-871c-4d5b-e0f9-22d5898f1b27"
   },
   "outputs": [
    {
     "name": "stdout",
     "output_type": "stream",
     "text": [
      "A propriedade é valida, o modo do ultimo estado e: STOPPED\n"
     ]
    }
   ],
   "source": [
    "def verificaStop(declare, init, trans, k):\n",
    "  s = Solver()\n",
    "  traco = [declare(i) for i in range(k)]\n",
    "  s.add(init(traco[0]))\n",
    "  for i in range(k-1):\n",
    "    s.add(trans(traco[i], traco[i+1]))\n",
    "  if s.check() == sat:\n",
    "    m = s.model()\n",
    "    res = m[traco[-1]['m']]\n",
    "    if str(res) == 'STOPPED':\n",
    "      print(\"A propriedade é valida, o modo do ultimo estado e:\",res)\n",
    "\n",
    "verificaStop(declare,init,trans,70)"
   ]
  }
 ],
 "metadata": {
  "colab": {
   "provenance": []
  },
  "kernelspec": {
   "display_name": "Python 3 (ipykernel)",
   "language": "python",
   "name": "python3"
  },
  "language_info": {
   "codemirror_mode": {
    "name": "ipython",
    "version": 3
   },
   "file_extension": ".py",
   "mimetype": "text/x-python",
   "name": "python",
   "nbconvert_exporter": "python",
   "pygments_lexer": "ipython3",
   "version": "3.10.13"
  }
 },
 "nbformat": 4,
 "nbformat_minor": 4
}

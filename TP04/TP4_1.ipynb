{
  "nbformat": 4,
  "nbformat_minor": 0,
  "metadata": {
    "colab": {
      "provenance": []
    },
    "kernelspec": {
      "name": "python3",
      "display_name": "Python 3"
    },
    "language_info": {
      "name": "python"
    }
  },
  "cells": [
    {
      "cell_type": "markdown",
      "source": [
        "#TP4"
      ],
      "metadata": {
        "id": "hEBGYSn2lfLn"
      }
    },
    {
      "cell_type": "markdown",
      "source": [
        "Paulo Freitas - A100053\n",
        "\n",
        "\n",
        "Pedro Santos - A100110"
      ],
      "metadata": {
        "id": "XD7z1yEFljof"
      }
    },
    {
      "cell_type": "markdown",
      "source": [
        "### Enunciado"
      ],
      "metadata": {
        "id": "ZdjYp3nYnxxc"
      }
    },
    {
      "cell_type": "markdown",
      "source": [
        "No contexto do sistema de travagem ABS (“Anti-Lock Breaking System”), pretende-se construir um autómato híbrido que descreva o sistema e que  possa ser usado para verificar as suas propriedades dinâmicas.\n",
        "\n",
        "    \n",
        "  - A componente discreta do autómato contém os modos:  `Start`,  `Free`,  `Stopping`, `Blocked`, e `Stopped`.\n",
        "    - o modo `Start` inicia o funcionamento com os valores iniciais das velocidades\n",
        "    - no modo `Free`  não existe qualquer força de travagem;\n",
        "    - no modo `Stopping` aplica-se a força de travagem alta;\n",
        "    - no modo `Blocked` as rodas estão bloqueadas em relação ao corpo mas o veículo  move-se (i.e. derrapa) com pequeno atrito ao solo;\n",
        "    - no modo `Stopped` o veículo está imobilizado.\n",
        "  - A componente contínua  do autómato usa variáveis contínuas $$\\,V,v\\,$$ para descrever a  `velocidade do corpo`   e a `velocidade linear das rodas`  ambas em relação so solo.\n",
        "  - Assume-se que o sistema de travagem exerce uma força de atrito proporcional à diferença das duas velocidades.  A dinâmica contínua, as equações de fluxo, está descrita  abaixo.\n",
        "  - Os “switchs” são a componente de projeto deste trabalho; cabe ao aluno definir quais devem ser  de modo a que o sistema tenha um comportamento desejável: imobilize-se depressa e não “derrape” muito.\n",
        "  - É imprescindível evitar que o sistema tenha “trajetórias de Zenão”. Isto é, sequências  infinitas de transições  entre dois modos em intervalos de tempo  que tendem para zero mas nunca alcançam zero.\n",
        "\n",
        "Faça\n",
        "\n",
        "1. Defina um autómato híbrido que descreva a dinâmica do sistema segundo as notas abaixo indicadas e com os “switchs” por si escolhidos.\n",
        "2. A condição de segurança estabelece que o sistema não permaneça no modo `free`  ou no modo `blocked` mais do que $$\\,\\tau\\,$$ segundos.\n",
        "3. Defina um SFOTS que modele a discretização do autómato híbrido.\n",
        "4. Verifique nesse modelo\n",
        "    1. Que as condições de segurança são invariantes do sistema\n",
        "    2. Que o sistema atinge o estado `stopped` eventualmente.\n",
        "\n",
        "\n",
        "\n",
        "![](https://paper-attachments.dropboxusercontent.com/s_9896551CC5FAD2B2EB6E4EBC08522545FA66314D29FE6A5BE8E593259F8E8A37_1672830059198_ABS.png)\n",
        "\n",
        "![](https://paper-attachments.dropboxusercontent.com/s_C5426E33053EA04D1E3446B871CC8485C43045FF7CAAA1FC86A9B3A8E09058F9_1574702123197_Documento.png)\n",
        "\n",
        "\n",
        "\n",
        "  | Equações de Fluxo\n",
        "\n",
        "  1. Durante  a travagem não existe qualquer  força no sistema excepto as forças de atrito. Quando uma superfície se desloca em relação à outra, a força de atrito  é proporcional à força de compressão entre elas. <br>\n",
        "  \n",
        "  2. No contacto rodas/solo a força de compressão é dada pelo o peso $P$ que é constante e independente do modo. Tem-se $f = a\\, P$ sendo  $a$ a constante de atrito; o valor de $a$ depende do modo: é baixa em `Blocked` e alta nos restantes.<br>\n",
        "  \n",
        "  3. No contacto corpo/rodas,  a força de compressão é a força de travagem que aqui se assume como proporcional à diferença de velocidades<br><br>                                                                      $F =  c\\, (V-v)$<br>      A  constante de proporcionalidade $c$ depende do modo: é elevada no modo `Stopping` e baixa nos outros.<br><br>\n",
        "  \n",
        "  4. As  equações que traduzem a dinâmica  do sistema são, em todos os modo excepto `Blocked`,<br>                                                        $(\\dot{V} \\,=\\, -F)\\,\\land\\, (\\dot{v} \\,=\\, -a\\, P  + F)$   <br>e , no modo `Blocked`,  a dinâmica do sistema é  regida por:<br>                                                         $(V = v) \\;\\land\\; (\\,\\dot{v}\\,=\\, -a\\, P\\,)$<br>\n",
        "\n",
        "\n",
        "  5. Tanto no modo `Blocked`  como no modo `Free`  existe um “timer” que impede que o controlo aí permaneça mais do que $\\,\\tau\\,$segundos.  Os     $\\mathsf{switch}(V,v,t,V',v',t')\\,$  nesses modos devem forçar esta condição. <br>\n",
        "  \n",
        "\n",
        "  6. Todos os “switchs” devem ser construídos de  modo a impedir a existência de trajetórias de Zenão.<br>\n",
        "  \n",
        "\n",
        "  7. No instante inicial  o modo é  `Start` e  tem-se $\\,V = v\\,=\\,V_0$  . A velocidade $V_0$ é  “input” do problema.\n",
        "\n"
      ],
      "metadata": {
        "id": "wBDtar9dlbpu"
      }
    },
    {
      "cell_type": "markdown",
      "source": [
        "## Import das Bibliotecas\n",
        "\n",
        "Para este exercício serão usadas as bibliotecas do pysmt e os sover z3 e msat."
      ],
      "metadata": {
        "id": "QJ2U-G89oiku"
      }
    },
    {
      "cell_type": "code",
      "source": [
        "%%capture\n",
        "!yes | pip install pysmt\n",
        "!apt-get install libgmp3-dev\n",
        "!yes | pysmt-install --z3 --msat\n",
        "\n",
        "file = '/usr/local/lib/python3.10/dist-packages/pysmt/smtlib/parser/__init__.py'\n",
        "with open(file, 'r') as f:\n",
        "    code = f.read()\n",
        "    new_code = code.replace('USE_CYTHON = True', 'USE_CYTHON = False')\n",
        "\n",
        "with open(file, 'w') as f:\n",
        "  f.write(new_code)"
      ],
      "metadata": {
        "id": "MHBM0FxBq_5k"
      },
      "execution_count": 1,
      "outputs": []
    },
    {
      "cell_type": "code",
      "source": [
        "from pysmt.shortcuts import *\n",
        "from pysmt.typing import INT,BVType\n",
        "from pysmt.logics import QF_NIA, QF_BV\n",
        "import itertools\n",
        "import matplotlib.pyplot as plt\n",
        "from os import TMP_MAX\n",
        "from z3 import *"
      ],
      "metadata": {
        "id": "AGHj2DrpthyL"
      },
      "execution_count": 2,
      "outputs": []
    },
    {
      "cell_type": "markdown",
      "source": [
        "# Exercício 1.3"
      ],
      "metadata": {
        "id": "N290LfFGGSco"
      }
    },
    {
      "cell_type": "code",
      "source": [
        "Mode, (START,FREE,STOPPING,BLOCKED,STOPPED) = EnumSort('Mode', ('START','FREE','STOPPING','BLOCKED','STOPPED'))"
      ],
      "metadata": {
        "id": "TQ-AB_YnKKoY"
      },
      "execution_count": 37,
      "outputs": []
    },
    {
      "cell_type": "code",
      "source": [
        "vdif = 0.1\n",
        "tmax = 0.1\n",
        "a = 0.01\n",
        "b = 0.5\n",
        "c_stopping = 10\n",
        "c = 0.5\n",
        "P = 1000\n",
        "velinicial = 20"
      ],
      "metadata": {
        "id": "GJAz5cteHYXn"
      },
      "execution_count": 35,
      "outputs": []
    },
    {
      "cell_type": "code",
      "source": [
        "def declare(i):\n",
        "    s = {}\n",
        "\n",
        "    s['t']      = Real('t'+str(i))                # TEMPO\n",
        "    s['m']      = Const('m'+str(i), Mode)         # MODO\n",
        "    s['vcorpo'] = Real('vcorpo'+str(i))           # VELOCIDADE CARRO\n",
        "    s['vrodas'] = Real('vrodas'+str(i))           # VELOCIDADE RODAS\n",
        "    s['timer']  = Real('timer'+str(i))            # TIMER\n",
        "\n",
        "    return s"
      ],
      "metadata": {
        "id": "jGemXHwlLw3o"
      },
      "execution_count": 21,
      "outputs": []
    },
    {
      "cell_type": "code",
      "source": [
        "def init(state):\n",
        "  return And(state['t'] == 0, state['vcorpo'] == velinicial, state['vrodas'] == velinicial, state['m'] == START)\n"
      ],
      "metadata": {
        "id": "XC6GZgYINMF4"
      },
      "execution_count": 19,
      "outputs": []
    },
    {
      "cell_type": "code",
      "source": [
        "def trans(curr, prox):\n",
        "  v_final = And(prox['vcorpo'] == prox['vrodas'], prox['vcorpo'] == 0, prox['timer'] == 0)\n",
        "\n",
        "  # untimed\n",
        "\n",
        "  start_free = And( curr['m'] == START, prox['m'] == FREE, curr['t'] == prox['t'],\n",
        "                    curr['vcorpo'] == prox['vcorpo'], curr['vrodas'] == prox['vrodas'], prox['timer'] == 0,\n",
        "                    curr['timer'] == 0)\n",
        "\n",
        "  free_stopping = And(curr['m'] == FREE, prox['m'] == STOPPING, curr['t'] == prox['t'],\n",
        "                      curr['vcorpo'] == prox['vcorpo'], curr['vrodas'] == prox['vrodas'], curr['timer'] >= tmax,\n",
        "                      prox['timer'] == 0)\n",
        "\n",
        "  stopping_blocked = And(curr['m'] == STOPPING, prox['m'] == BLOCKED, curr['t'] == prox['t'],\n",
        "                         curr['vcorpo'] == prox['vcorpo'], curr['vrodas'] == prox['vrodas'], curr['vcorpo'] - curr['vrodas'] <= vdif,\n",
        "                         prox['timer'] == 0)\n",
        "\n",
        "  blocked_free = And(curr['m'] == BLOCKED, prox['m'] == FREE, curr['t'] == prox['t'],\n",
        "                     curr['vcorpo'] == prox['vcorpo'], curr['vrodas'] == prox['vrodas'], curr['timer'] >= tmax,\n",
        "                     prox['timer'] == 0)\n",
        "\n",
        "  free_stopped = And(curr['m'] == FREE, prox['m'] == STOPPED, curr['t'] == prox['t'],\n",
        "                     curr['vcorpo'] <= vdif, curr['vrodas'] <= vdif, v_final)\n",
        "\n",
        "  stopping_stopped = And(curr['m'] == STOPPING, prox['m'] == STOPPED, curr['t'] == prox['t'],\n",
        "                         curr['vcorpo'] <= vdif, curr['vrodas'] <= vdif, v_final)\n",
        "\n",
        "  blocked_stopped = And(curr['m'] == BLOCKED, prox['m'] == STOPPED, curr['t'] == prox['t'],\n",
        "                        curr['vcorpo'] <= vdif, curr['vrodas'] <= vdif, v_final)\n",
        "\n",
        "  intervalo = 0.1\n",
        "  # timed\n",
        "  blocked_blocked = And(curr['m'] == BLOCKED, prox['m'] == BLOCKED, curr['t'] < prox['t'],\n",
        "                        prox['timer'] - curr['timer'] == prox['t'] - curr['t'],\n",
        "                        prox['timer'] <= tmax,\n",
        "                        curr['vcorpo'] <= curr['vrodas'] + vdif,\n",
        "                        prox['vcorpo'] <= prox['vrodas'] + vdif,\n",
        "                        (prox['vcorpo'] - curr['vcorpo']) == ((-a * P - b)*intervalo),\n",
        "                        prox['t'] - curr['t'] == intervalo,\n",
        "                        curr['vrodas'] <= curr['vcorpo'],\n",
        "                        prox['vrodas'] <= prox['vcorpo'],\n",
        "                        prox['vcorpo'] >= vdif,\n",
        "                        prox['vrodas'] >= vdif)\n",
        "\n",
        "  free_free = And(curr['m'] == FREE, prox['m'] == FREE, curr['t'] < prox['t'],\n",
        "                  prox['timer'] <= tmax,\n",
        "                  (prox['vcorpo'] - curr['vcorpo']) == (-c*(curr['vcorpo'] - curr['vrodas'])-b) * intervalo,\n",
        "                  prox['vrodas'] - curr['vrodas'] == (-a*P + c * (curr['vcorpo'] - curr['vrodas'])) * intervalo,\n",
        "                  prox['t'] - curr['t'] == intervalo,\n",
        "                  curr['vrodas'] <= curr['vcorpo'],\n",
        "                  prox['vrodas'] <= prox['vcorpo'],\n",
        "                  prox['vcorpo'] >= vdif,\n",
        "                  prox['vrodas'] >= vdif)\n",
        "\n",
        "  stopping_stopping =And(curr['m'] == STOPPING, prox['m'] == STOPPING, curr['t'] < prox['t'],\n",
        "                        (prox['vcorpo'] - curr['vcorpo']) == (-c_stopping*(curr['vcorpo'] - curr['vrodas'])-b) * intervalo,\n",
        "                        prox['vrodas'] - curr['vrodas'] == (-a*P + c_stopping * (curr['vcorpo'] - curr['vrodas'])) * intervalo,\n",
        "                        prox['t'] - curr['t'] == intervalo,\n",
        "                        curr['vcorpo'] - curr['vrodas'] > vdif,\n",
        "                        curr['vrodas'] <= curr['vcorpo'],\n",
        "                        prox['vrodas'] <= prox['vcorpo'])\n",
        "\n",
        "  stopped_stopped = And(curr['m'] == STOPPED, prox['m'] == STOPPED, prox['t'] == curr['t'],\n",
        "                        prox['vrodas'] == curr['vrodas'], prox['vcorpo'] == curr['vcorpo'], curr['timer'] == 0,\n",
        "                        prox['timer'] == 0)\n",
        "\n",
        "  return Or(start_free, free_stopping, stopping_blocked, blocked_free, free_stopped, stopping_stopped,\n",
        "  blocked_stopped, free_free, stopping_stopping, blocked_blocked, stopped_stopped)\n",
        "\n"
      ],
      "metadata": {
        "id": "u288GpSdPFD6"
      },
      "execution_count": 38,
      "outputs": []
    },
    {
      "cell_type": "code",
      "source": [
        "def gera_traco(declare, init, trans, k, erro, limite_timer, a, b, c_stopping, c, peso, v_inicial):\n",
        "  Velocidades_Carro = []\n",
        "  Velocidades_Rodas = []\n",
        "  Tempos = []\n",
        "  s = Solver()\n",
        "  traco = [declare(i) for i in range(k)]\n",
        "  s.add(init(traco[0]))\n",
        "  for i in range(k-1):\n",
        "    s.add(trans(traco[i], traco[i+1]))\n",
        "  if s.check() == sat:\n",
        "    m = s.model()\n",
        "    for i in range(k):\n",
        "      print(\"Estado:\", i)\n",
        "      modeloV = m[traco[i]['vcorpo']]\n",
        "      modelov = m[traco[i]['vrodas']]\n",
        "      modelot = m[traco[i]['t']]\n",
        "      Velocidades_Carro.append(float(modeloV.numerator_as_long())/float(modeloV.denominator_as_long()))\n",
        "      Velocidades_Rodas.append(float(modelov.numerator_as_long())/float(modelov.denominator_as_long()))\n",
        "      Tempos.append(float(modelot.numerator_as_long())/float(modelot.denominator_as_long()))\n",
        "      for v in traco[i]:\n",
        "        res = m[traco[i][v]]\n",
        "        if res.sort() != RealSort():\n",
        "          print(v, '=', res)\n",
        "        else:\n",
        "          print(v, '=', float(res.numerator_as_long())/float(res.denominator_as_long()))\n",
        "      print()\n",
        "    plt.plot(Tempos, Velocidades_Carro, Tempos, Velocidades_Rodas)\n",
        "  else:\n",
        "    print(\"Não tem solução.\")\n",
        "\n",
        "\n",
        "gera_traco(declare, init, trans, 61, vdif, tmax, a, b, c_stopping, c, P, velinicial)"
      ],
      "metadata": {
        "id": "PhKwnYzXHeTu",
        "colab": {
          "base_uri": "https://localhost:8080/",
          "height": 904
        },
        "outputId": "7de4c702-08d2-40a4-bfc9-90f230d2d9a4"
      },
      "execution_count": 39,
      "outputs": [
        {
          "output_type": "stream",
          "name": "stdout",
          "text": [
            "Estado: 0\n",
            "t = 0.0\n",
            "m = START\n",
            "vcorpo = 20.0\n",
            "vrodas = 20.0\n",
            "timer = 0.0\n",
            "\n",
            "Estado: 1\n",
            "t = 0.0\n",
            "m = FREE\n",
            "vcorpo = 20.0\n",
            "vrodas = 20.0\n",
            "timer = 0.0\n",
            "\n",
            "Estado: 2\n",
            "t = 0.1\n",
            "m = FREE\n",
            "vcorpo = 19.95\n",
            "vrodas = 19.0\n",
            "timer = 0.1\n",
            "\n",
            "Estado: 3\n",
            "t = 0.1\n",
            "m = STOPPING\n",
            "vcorpo = 19.95\n",
            "vrodas = 19.0\n",
            "timer = 0.0\n",
            "\n",
            "Estado: 4\n",
            "t = 0.2\n",
            "m = STOPPING\n",
            "vcorpo = 18.95\n",
            "vrodas = 18.95\n"
          ]
        },
        {
          "output_type": "error",
          "ename": "AttributeError",
          "evalue": "ignored",
          "traceback": [
            "\u001b[0;31m---------------------------------------------------------------------------\u001b[0m",
            "\u001b[0;31mAttributeError\u001b[0m                            Traceback (most recent call last)",
            "\u001b[0;32m<ipython-input-39-4f810857b583>\u001b[0m in \u001b[0;36m<cell line: 32>\u001b[0;34m()\u001b[0m\n\u001b[1;32m     30\u001b[0m \u001b[0;34m\u001b[0m\u001b[0m\n\u001b[1;32m     31\u001b[0m \u001b[0;34m\u001b[0m\u001b[0m\n\u001b[0;32m---> 32\u001b[0;31m \u001b[0mgera_traco\u001b[0m\u001b[0;34m(\u001b[0m\u001b[0mdeclare\u001b[0m\u001b[0;34m,\u001b[0m \u001b[0minit\u001b[0m\u001b[0;34m,\u001b[0m \u001b[0mtrans\u001b[0m\u001b[0;34m,\u001b[0m \u001b[0;36m61\u001b[0m\u001b[0;34m,\u001b[0m \u001b[0mvdif\u001b[0m\u001b[0;34m,\u001b[0m \u001b[0mtmax\u001b[0m\u001b[0;34m,\u001b[0m \u001b[0ma\u001b[0m\u001b[0;34m,\u001b[0m \u001b[0mb\u001b[0m\u001b[0;34m,\u001b[0m \u001b[0mc_stopping\u001b[0m\u001b[0;34m,\u001b[0m \u001b[0mc\u001b[0m\u001b[0;34m,\u001b[0m \u001b[0mP\u001b[0m\u001b[0;34m,\u001b[0m \u001b[0mvelinicial\u001b[0m\u001b[0;34m)\u001b[0m\u001b[0;34m\u001b[0m\u001b[0;34m\u001b[0m\u001b[0m\n\u001b[0m",
            "\u001b[0;32m<ipython-input-39-4f810857b583>\u001b[0m in \u001b[0;36mgera_traco\u001b[0;34m(declare, init, trans, k, erro, limite_timer, a, b, c_stopping, c, peso, v_inicial)\u001b[0m\n\u001b[1;32m     20\u001b[0m       \u001b[0;32mfor\u001b[0m \u001b[0mv\u001b[0m \u001b[0;32min\u001b[0m \u001b[0mtraco\u001b[0m\u001b[0;34m[\u001b[0m\u001b[0mi\u001b[0m\u001b[0;34m]\u001b[0m\u001b[0;34m:\u001b[0m\u001b[0;34m\u001b[0m\u001b[0;34m\u001b[0m\u001b[0m\n\u001b[1;32m     21\u001b[0m         \u001b[0mres\u001b[0m \u001b[0;34m=\u001b[0m \u001b[0mm\u001b[0m\u001b[0;34m[\u001b[0m\u001b[0mtraco\u001b[0m\u001b[0;34m[\u001b[0m\u001b[0mi\u001b[0m\u001b[0;34m]\u001b[0m\u001b[0;34m[\u001b[0m\u001b[0mv\u001b[0m\u001b[0;34m]\u001b[0m\u001b[0;34m]\u001b[0m\u001b[0;34m\u001b[0m\u001b[0;34m\u001b[0m\u001b[0m\n\u001b[0;32m---> 22\u001b[0;31m         \u001b[0;32mif\u001b[0m \u001b[0mres\u001b[0m\u001b[0;34m.\u001b[0m\u001b[0msort\u001b[0m\u001b[0;34m(\u001b[0m\u001b[0;34m)\u001b[0m \u001b[0;34m!=\u001b[0m \u001b[0mRealSort\u001b[0m\u001b[0;34m(\u001b[0m\u001b[0;34m)\u001b[0m\u001b[0;34m:\u001b[0m\u001b[0;34m\u001b[0m\u001b[0;34m\u001b[0m\u001b[0m\n\u001b[0m\u001b[1;32m     23\u001b[0m           \u001b[0mprint\u001b[0m\u001b[0;34m(\u001b[0m\u001b[0mv\u001b[0m\u001b[0;34m,\u001b[0m \u001b[0;34m'='\u001b[0m\u001b[0;34m,\u001b[0m \u001b[0mres\u001b[0m\u001b[0;34m)\u001b[0m\u001b[0;34m\u001b[0m\u001b[0;34m\u001b[0m\u001b[0m\n\u001b[1;32m     24\u001b[0m         \u001b[0;32melse\u001b[0m\u001b[0;34m:\u001b[0m\u001b[0;34m\u001b[0m\u001b[0;34m\u001b[0m\u001b[0m\n",
            "\u001b[0;31mAttributeError\u001b[0m: 'NoneType' object has no attribute 'sort'"
          ]
        }
      ]
    }
  ]
}
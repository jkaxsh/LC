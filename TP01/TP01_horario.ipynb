{
 "cells": [
  {
   "cell_type": "markdown",
   "metadata": {
    "id": "5MOYfBJdiNeb"
   },
   "source": [
    "# Trabalho 1 - Horário\n",
    "\n",
    "2 de outubro de 2023\n",
    "\n",
    "Paulo Jorge Fernandes Freitas   - A100053\n",
    "&\n",
    "Pedro Manuel Pereira dos Santos - A100110"
   ]
  },
  {
   "cell_type": "markdown",
   "metadata": {
    "id": "mcWdllsojwfu"
   },
   "source": [
    "## Enunciado:\n",
    "\n",
    "Pretende-se construir o horário semanal de aulas de uma turma.  \n",
    "  1.  Existe um conjunto de salas S classificadas em “grandes” e “pequenas”.  \n",
    "  2.  O tempo do horário está organizado em “slots” de uma hora. O total do tempo disponível é 5 horas de manhã e 5 horas às tarde.  \n",
    "  3.  Existe um conjunto D de disciplinas.  Cada disciplina tem um atributo d com valor 1 ou 2, que classifica a duração de cada sessão (um ou dois “slots”) , um atributo a entre 2 e 3 que define o número de sessões semanais e um atributo s entre 0 e 1 que diz se a sessão necessita de uma sala grande ou não.  \n",
    "  4.  Existe um conjunto P de professores. Cada professor tem associado um conjunto  h das disciplinas que está habilitado a lecionar.  \n",
    "  5.  O horário está organizado em sessões concorrentes onde cada sessão é definido por uma disciplina desce que salas e professores verifiquem as seguintes restrições:  \n",
    "      1.  Para cada disciplina todas as aulas decorrem na mesma sala e com o mesmo professor.  \n",
    "      2.  O número total de horas lecionadas por cada professor está num intervalo de mais ou menos 20% do número médio de horas lecionadas pela totalidade dos professores.  \n",
    "      3.  Nenhuma sala pode ser ocupada simultaneamente por mais do que uma aula e nenhum professor pode lecionar simultaneamente mais do que uma aula.  \n",
    "      4.  Em cada disciplina, cada aula é lecionada por um professor habilitado para essa disciplina e ocorre numa sala de tamanho apropriado à disciplina.\n",
    "\n",
    "**Use o package ortools para encontrar uma solução que verifique todas as restrições e maximize o número de partes de dia (manhãs ou tardes) que estão livres de qualquer aula.**"
   ]
  },
  {
   "cell_type": "markdown",
   "metadata": {
    "id": "reXaNJwFwNoY"
   },
   "source": [
    "## Análise do Problema\n",
    "\n",
    "Este é um problema de alocação. Queremos alocar aulas de diferentes disciplinas a um limitado numero de slots durante uma semana. Essa alocação implica a alocação de professores e salas aprorpiados a cada disciplina.\n",
    "\n",
    "Existem salas de aulas grandes e pequenas, descritas separadamente em listas com os seus nomes.\n",
    "\n",
    "Existe uma lista com os dias da semana, para facilitar o \"printer\" e facilitar a leitura do output.\n",
    "\n",
    "Há duas variáveis para slots : \"slots_manha\" que indica o número de slots existentes na primeira metade do dia, e \"slots_tarde\" que corresponde aos restantes slots do dia.\n",
    "\n",
    "A variável \"professores\" descreve os professores existentes numa lista.\n",
    "Para seu auxílio, a variável \"leciona\" estabelece, recorrendo a um dicionário, uma lista de quais disciplinas os docentes estam habilitados a lecionar.\n",
    "\n",
    "Na variável \"disciplinas\", são enumeradas numa lista as disciplinas existentes.\n",
    "Em seu auxílio, o dicionário \"aulas\" estabelece quais os atributos as aulas requerem. Num tuplo são indicados: o número de slots que a aula ocupa, o número de aulas por semana e o se é necessarío uma sala grande ou sala pequena, respetivamente.\n",
    "\n",
    "Existe tambem uma variável binária \"horario\" capaz de relacionar disciplinas,professores, salas, dias e slots onde:\n",
    "$$𝑥_{d,p,𝑠,dia,slot}==1 \\quad \\mbox {se e só se} \\quad \\mbox{é possivel alocar aula $d$ com o professor $p$ numa sala $𝑠$, no dia $dia$ e no momento $slot$} $$"
   ]
  },
  {
   "cell_type": "markdown",
   "metadata": {
    "id": "hhaL3uuL44xg"
   },
   "source": [
    "**Variáveis:**  \n",
    "\n",
    "salas_g - Salas grande / Sg  \n",
    "salas_p - Salas pequenas / Sp  \n",
    "(salas_p + salas_g) - Salas / S  \n",
    "slot - hora / H  \n",
    "disciplina - Disciplinas / D  \n",
    "professores - Professores / P  \n",
    "dias - Dias / X  "
   ]
  },
  {
   "cell_type": "markdown",
   "metadata": {
    "id": "PxpF_mUB5cbH"
   },
   "source": [
    "## Iniciação\n",
    "Para a resolução deste exercício utilizamos a biblioteca OR-Tools que criou uma interface para o SCIP. Esta biblioteca foi instalada com o commando pip install ortools."
   ]
  },
  {
   "cell_type": "code",
   "execution_count": 3,
   "metadata": {
    "colab": {
     "base_uri": "https://localhost:8080/"
    },
    "id": "-hL2rR6R5i8w",
    "outputId": "394a2369-c897-4ba6-a088-d32ef0205b76"
   },
   "outputs": [
    {
     "name": "stdout",
     "output_type": "stream",
     "text": [
      "Requirement already satisfied: ortools in /usr/local/lib/python3.10/dist-packages (9.7.2996)\n",
      "Requirement already satisfied: absl-py>=0.13 in /usr/local/lib/python3.10/dist-packages (from ortools) (1.4.0)\n",
      "Requirement already satisfied: numpy>=1.13.3 in /usr/local/lib/python3.10/dist-packages (from ortools) (1.23.5)\n",
      "Requirement already satisfied: protobuf>=4.23.3 in /usr/local/lib/python3.10/dist-packages (from ortools) (4.24.3)\n"
     ]
    }
   ],
   "source": [
    "!pip install ortools"
   ]
  },
  {
   "cell_type": "markdown",
   "metadata": {
    "id": "HH5fY5Jm5tXa"
   },
   "source": [
    "## Implementação\n",
    "Começamos por importar a biblioteca de programação linear do OR-Tools e criar uma instância do solver.\n",
    "\n",
    "Depois inicializamos o solver, definimos as variaveis."
   ]
  },
  {
   "cell_type": "code",
   "execution_count": 4,
   "metadata": {
    "id": "HUlVdvxg6Nfz"
   },
   "outputs": [],
   "source": [
    "from ortools.linear_solver import pywraplp\n",
    "\n",
    "solver = pywraplp.Solver.CreateSolver('SCIP')\n",
    "\n",
    "salas_g = [\"a1\",\"a2\"] # auditorios - salas grandes\n",
    "salas_p = [\"s1\",\"s2\",\"s3\",\"s4\"] # salas pequenas\n",
    "dias = [\"Segunda\",\"Terça\",\"Quarta\",\"Quinta\",\"Sexta\"]\n",
    "slots_manha = 5\n",
    "slots_tarde = 5\n",
    "professores = [\"p1\",\"p2\",\"p3\",\"p4\",\"p5\"]\n",
    "disciplinas = [\"d1\",\"d2\",\"d3\",\"d4\",\"d5\"]\n",
    "\n",
    "aulas = {\"d1\":(2,2,1), \"d2\":(1,3,0), \"d3\":(2,3,1), \"d4\":(2,2,0), \"d5\":(1,3,1)} # quais sao os atributos das cadeiras em formato (n de slots a ocupar, n de sessões, se precisa de sala grande-1 ou não-0)\n",
    "\n",
    "leciona = {\"p1\":[\"d1\",\"d3\"], \"p2\":[\"d3\",\"d4\"], \"p3\":[\"d2\"], \"p4\":[\"d4\"], \"p5\" :[\"d5\"]} # quais cadeiras os professores podem lecionar\n",
    "\n",
    "horario={}\n",
    "for d in disciplinas:\n",
    "  for p in professores:\n",
    "    for s in salas_g + salas_p:\n",
    "      for dia in dias:\n",
    "        for slot in range(slots_manha + slots_tarde):\n",
    "          horario[d,p,s,dia,slot]= solver.IntVar(0,1,f'x[{d},{p},{s},{dia},{slot}]')"
   ]
  },
  {
   "cell_type": "markdown",
   "metadata": {
    "id": "4C9INFeg6XBD"
   },
   "source": [
    "### Restrições\n",
    "Vamos agora adicionar as restrições. Para tal, vamos dividir as condições no enunciado para facilitar a criação da expressão lógica e a interpretação."
   ]
  },
  {
   "cell_type": "markdown",
   "metadata": {
    "id": "6upmAzvOAXrW"
   },
   "source": [
    "#### 1. Cada disciplina tem um dado número de aulas semanais.\n",
    "\n",
    "($ A_d = aulas[d][0]* aulas[d][1])$\n",
    "\n",
    "$$\\forall_{d \\leq D} \\sum_{p \\leq P, s\\leq S\\,x \\leq X,h \\leq H} horario_{d,p,s,x,h} = A_d $$\n",
    "\n",
    "Isto se dá pois algumas disciplinas têm aulas que ocupam dois slots cada, e deste modo temos todos os slots semanais que a disciplina ocupa."
   ]
  },
  {
   "cell_type": "code",
   "execution_count": 5,
   "metadata": {
    "id": "5fm4HEKc7N7q"
   },
   "outputs": [],
   "source": [
    "#1 Cada disciplina tem um dado numero de aulas semanais\n",
    "for d in disciplinas:\n",
    "    naulas = aulas[d][1]\n",
    "    nslots = aulas[d][0]\n",
    "    solver.Add(solver.Sum(horario[d, p, s, dia, slot] for p in professores for s in salas_g + salas_p for dia in dias for slot in range(slots_manha + slots_tarde)) == nslots*naulas)\n"
   ]
  },
  {
   "cell_type": "markdown",
   "metadata": {
    "id": "_jzPCC_RDvMi"
   },
   "source": [
    "#### 2. Professores não podem dar mais de uma aula no mesmo slot e nenhuma sala pode ser ocupada por mais de uma aula no mesmo slot.\n",
    "\n",
    "\n",
    "$$\\forall\\, _{p \\leq\\ P}\\,\\centerdot\\, \\forall\\,_{s \\leq\\ S} \\sum_{d \\leq D,x \\leq X,h \\leq H} horario_{d,p,s,x,h} <=1 $$\n",
    "\n",
    "Impede que atribuia aulas no mesmo slot para o mesmo professor e, juntamente impede que ocorram aulas, no mesmo slot, na mesma sala."
   ]
  },
  {
   "cell_type": "code",
   "execution_count": 6,
   "metadata": {
    "id": "akn0t9_WwMp3"
   },
   "outputs": [],
   "source": [
    "#2 Professores não podem dar mais de uma aula no mesmo slot e nenhuma sala pode ser ocupada por mais de uma aula no mesmo slot\n",
    "for dia in dias:\n",
    "    for slot in range(slots_manha + slots_tarde):\n",
    "        for s in salas_g + salas_p:\n",
    "            solver.Add(solver.Sum(horario[d, p, s, dia, slot] for d in disciplinas for p in professores) <= 1)"
   ]
  },
  {
   "cell_type": "markdown",
   "metadata": {
    "id": "lhmV5oJwwzjP"
   },
   "source": [
    "#### 3. Cada aula deve ser lecionada em uma sala adequada.\n",
    "\n",
    "($ B_d = aulas[d][2])$\n",
    "$$\\forall\\, _{d \\leq\\ D}\\,\\centerdot\\, \\forall\\,_{s \\leq\\ S} \\sum_{p \\leq P,x \\leq X,h \\leq H} horario_{d,p,s,x,h} <=B_d $$\n",
    "\n",
    "Esta restrição verifica qual o tamanho de sala requerido, e impede que as aulas sejam lecionadas em salas de tamanho errado."
   ]
  },
  {
   "cell_type": "code",
   "execution_count": 7,
   "metadata": {
    "id": "ByZZ8zaOw9QJ"
   },
   "outputs": [],
   "source": [
    "#3 Cada aula deve ser dada em uma sala adequada\n",
    "for d in disciplinas:\n",
    "    for dia in dias:\n",
    "        for slot in range(slots_manha + slots_tarde):\n",
    "            # Se a disciplina requer uma sala grande (1), então ela só pode ser agendada em salas grandes\n",
    "            if aulas[d][2] == 1:\n",
    "                solver.Add(solver.Sum(horario[d, p, s, dia, slot] for p in professores for s in salas_p) == 0)\n",
    "            # Se a disciplina não requer uma sala grande (0), então ela só pode ser agendada em salas pequenas\n",
    "            else:\n",
    "                solver.Add(solver.Sum(horario[d, p, s, dia, slot] for p in professores for s in salas_g) == 0)"
   ]
  },
  {
   "cell_type": "markdown",
   "metadata": {
    "id": "B2hno_T0yz6S"
   },
   "source": [
    "#### 4. As aulas devem ser lecionadas por professores habilitados.\n",
    "\n",
    "($ C_p = leciona[p])$\n",
    "$$\\forall_{d<D}.\\forall_{p<P}.\\forall_{s<S}.\\forall_{x<X}.\\forall_{h<H} d \\notin C_p \\implies horario_{d,p,s,x,h} =0$$\n",
    "\n",
    "\n",
    "Esta restrição verifica quais as disciplinas o docente pode lecionar, e impede que professores lecionem disciplinas que não podem."
   ]
  },
  {
   "cell_type": "code",
   "execution_count": 8,
   "metadata": {
    "id": "kd9oDGqZzWDn"
   },
   "outputs": [],
   "source": [
    "#4 As aulas devem ser lecionadas por professores habilitados\n",
    "for p in professores:\n",
    "    for d in disciplinas:\n",
    "      if d not in leciona[p]:\n",
    "        solver.Add(solver.Sum(horario[d, p, s, dia, slot] for dia in dias for s in salas_p+salas_g for slot in range(slots_manha+slots_tarde))==0)\n"
   ]
  },
  {
   "cell_type": "markdown",
   "metadata": {
    "id": "DcDGi4T62FOk"
   },
   "source": [
    "#### 5. Apenas uma aula é dada em cada slot.\n",
    "\n",
    "$$\\forall\\, _{x \\leq\\ X}\\,\\centerdot\\, \\forall\\,_{h \\leq\\ H} \\sum_{d \\leq D,p \\leq P, s \\leq S} horario_{d,p,s,x,h} <=1 $$\n",
    "\n",
    "Impede que mais do que uma aula ocorre no mesmo slot de tempo."
   ]
  },
  {
   "cell_type": "code",
   "execution_count": 9,
   "metadata": {
    "id": "ihxVPUH92LnU"
   },
   "outputs": [],
   "source": [
    "#5 Apenas uma aula é dada em cada slot\n",
    "for dia in dias:\n",
    "    for slot in range(slots_manha + slots_tarde):\n",
    "        solver.Add(solver.Sum(horario[d, p, s, dia, slot] for d in disciplinas for p in professores for s in salas_g + salas_p) <= 1)"
   ]
  },
  {
   "cell_type": "markdown",
   "metadata": {
    "id": "gxP5J0CR3RGU"
   },
   "source": [
    "### Procura da solução do problema"
   ]
  },
  {
   "cell_type": "code",
   "execution_count": 10,
   "metadata": {
    "id": "4uUIGorU3RjY"
   },
   "outputs": [],
   "source": [
    "problema = solver.Sum(1 - solver.Sum(horario[d, p, s, dia, slot] for d in disciplinas for p in professores for s in salas_g + salas_p for dia in dias for slot in range(slots_manha + slots_tarde)) for dia in dias for slot in range(slots_manha + slots_tarde))\n",
    "solver.Maximize(problema)\n",
    "\n",
    "# Resolva o problema\n",
    "status = solver.Solve()"
   ]
  },
  {
   "cell_type": "markdown",
   "metadata": {
    "id": "8g9Fd40_3pC1"
   },
   "source": [
    "### Print da solução do problema"
   ]
  },
  {
   "cell_type": "code",
   "execution_count": 11,
   "metadata": {
    "colab": {
     "base_uri": "https://localhost:8080/"
    },
    "id": "CUWxQpK430Go",
    "outputId": "a32f2682-c758-405c-b35b-a7c18f245669"
   },
   "outputs": [
    {
     "name": "stdout",
     "output_type": "stream",
     "text": [
      "Solução ótima encontrada:\n",
      "\n",
      " Segunda\n",
      "Manha\n",
      "slot: 1\n",
      "Disciplina d5, Professor p5, Sala a2\n",
      "\n",
      "slot: 2\n",
      "Disciplina d1, Professor p1, Sala a1\n",
      "\n",
      "slot: 3\n",
      "\n",
      "slot: 4\n",
      "\n",
      "slot: 5\n",
      "\n",
      "Tarde\n",
      "slot: 6\n",
      "\n",
      "slot: 7\n",
      "Disciplina d4, Professor p2, Sala s3\n",
      "\n",
      "slot: 8\n",
      "Disciplina d3, Professor p2, Sala a2\n",
      "\n",
      "slot: 9\n",
      "\n",
      "slot: 10\n",
      "Disciplina d3, Professor p1, Sala a2\n",
      "\n",
      "\n",
      " Terça\n",
      "Manha\n",
      "slot: 1\n",
      "\n",
      "slot: 2\n",
      "Disciplina d5, Professor p5, Sala a1\n",
      "\n",
      "slot: 3\n",
      "\n",
      "slot: 4\n",
      "Disciplina d3, Professor p1, Sala a2\n",
      "\n",
      "slot: 5\n",
      "Disciplina d3, Professor p1, Sala a2\n",
      "\n",
      "Tarde\n",
      "slot: 6\n",
      "\n",
      "slot: 7\n",
      "Disciplina d5, Professor p5, Sala a2\n",
      "\n",
      "slot: 8\n",
      "\n",
      "slot: 9\n",
      "\n",
      "slot: 10\n",
      "Disciplina d2, Professor p3, Sala s2\n",
      "\n",
      "\n",
      " Quarta\n",
      "Manha\n",
      "slot: 1\n",
      "Disciplina d2, Professor p3, Sala s1\n",
      "\n",
      "slot: 2\n",
      "\n",
      "slot: 3\n",
      "\n",
      "slot: 4\n",
      "\n",
      "slot: 5\n",
      "\n",
      "Tarde\n",
      "slot: 6\n",
      "\n",
      "slot: 7\n",
      "Disciplina d2, Professor p3, Sala s1\n",
      "\n",
      "slot: 8\n",
      "\n",
      "slot: 9\n",
      "Disciplina d3, Professor p2, Sala a2\n",
      "\n",
      "slot: 10\n",
      "Disciplina d1, Professor p1, Sala a1\n",
      "\n",
      "\n",
      " Quinta\n",
      "Manha\n",
      "slot: 1\n",
      "\n",
      "slot: 2\n",
      "Disciplina d3, Professor p1, Sala a1\n",
      "\n",
      "slot: 3\n",
      "\n",
      "slot: 4\n",
      "Disciplina d1, Professor p1, Sala a1\n",
      "\n",
      "slot: 5\n",
      "\n",
      "Tarde\n",
      "slot: 6\n",
      "\n",
      "slot: 7\n",
      "Disciplina d4, Professor p2, Sala s4\n",
      "\n",
      "slot: 8\n",
      "\n",
      "slot: 9\n",
      "\n",
      "slot: 10\n",
      "Disciplina d1, Professor p1, Sala a1\n",
      "\n",
      "\n",
      " Sexta\n",
      "Manha\n",
      "slot: 1\n",
      "Disciplina d4, Professor p2, Sala s3\n",
      "\n",
      "slot: 2\n",
      "\n",
      "slot: 3\n",
      "Disciplina d4, Professor p4, Sala s4\n",
      "\n",
      "slot: 4\n",
      "\n",
      "slot: 5\n",
      "\n",
      "Tarde\n",
      "slot: 6\n",
      "\n",
      "slot: 7\n",
      "\n",
      "slot: 8\n",
      "\n",
      "slot: 9\n",
      "\n",
      "slot: 10\n",
      "\n"
     ]
    }
   ],
   "source": [
    "# Verificar o status da solução\n",
    "if status == pywraplp.Solver.OPTIMAL:\n",
    "    print('Solução ótima encontrada:')\n",
    "    for dia in dias:\n",
    "\n",
    "      print(\"\\n\",dia)\n",
    "      for slot in range(slots_manha + slots_tarde):\n",
    "        if slot ==0: print(\"Manha\")\n",
    "        if slot ==5: print(\"Tarde\")\n",
    "        print(\"slot:\",slot+1)\n",
    "        for p in professores:\n",
    "            for d in disciplinas:\n",
    "                for s in salas_g + salas_p:\n",
    "                    if horario[d, p, s, dia, slot].solution_value():\n",
    "                        print(f'Disciplina {d}, Professor {p}, Sala {s}')\n",
    "        print()\n",
    "else:\n",
    "    print('O solver não conseguiu encontrar uma solução ótima. Status:')"
   ]
  }
 ],
 "metadata": {
  "colab": {
   "provenance": []
  },
  "kernelspec": {
   "display_name": "Python 3 (ipykernel)",
   "language": "python",
   "name": "python3"
  },
  "language_info": {
   "codemirror_mode": {
    "name": "ipython",
    "version": 3
   },
   "file_extension": ".py",
   "mimetype": "text/x-python",
   "name": "python",
   "nbconvert_exporter": "python",
   "pygments_lexer": "ipython3",
   "version": "3.10.13"
  }
 },
 "nbformat": 4,
 "nbformat_minor": 1
}
